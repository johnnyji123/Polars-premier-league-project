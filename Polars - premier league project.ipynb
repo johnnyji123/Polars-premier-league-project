{
 "cells": [
  {
   "cell_type": "code",
   "execution_count": 46,
   "id": "4a8f349a",
   "metadata": {},
   "outputs": [
    {
     "name": "stdout",
     "output_type": "stream",
     "text": [
      "Requirement already satisfied: polars in c:\\users\\jj_jo\\anaconda3\\lib\\site-packages (0.19.15)\n"
     ]
    },
    {
     "data": {
      "text/html": [
       "<div><style>\n",
       ".dataframe > thead > tr,\n",
       ".dataframe > tbody > tr {\n",
       "  text-align: right;\n",
       "  white-space: pre-wrap;\n",
       "}\n",
       "</style>\n",
       "<small>shape: (380, 23)</small><table border=\"1\" class=\"dataframe\"><thead><tr><th>div</th><th>date</th><th>hometeam</th><th>awayteam</th><th>fthg</th><th>ftag</th><th>ftr</th><th>hthg</th><th>htag</th><th>htr</th><th>referee</th><th>hs</th><th>as</th><th>hst</th><th>ast</th><th>hf</th><th>af</th><th>hc</th><th>ac</th><th>hy</th><th>ay</th><th>hr</th><th>ar</th></tr><tr><td>str</td><td>str</td><td>str</td><td>str</td><td>i64</td><td>i64</td><td>str</td><td>i64</td><td>i64</td><td>str</td><td>str</td><td>i64</td><td>i64</td><td>i64</td><td>i64</td><td>i64</td><td>i64</td><td>i64</td><td>i64</td><td>i64</td><td>i64</td><td>i64</td><td>i64</td></tr></thead><tbody><tr><td>&quot;E0&quot;</td><td>&quot;2018-08-10&quot;</td><td>&quot;Man United&quot;</td><td>&quot;Leicester&quot;</td><td>2</td><td>1</td><td>&quot;H&quot;</td><td>1</td><td>0</td><td>&quot;H&quot;</td><td>&quot;A Marriner&quot;</td><td>8</td><td>13</td><td>6</td><td>4</td><td>11</td><td>8</td><td>2</td><td>5</td><td>2</td><td>1</td><td>0</td><td>0</td></tr><tr><td>&quot;E0&quot;</td><td>&quot;2018-08-11&quot;</td><td>&quot;Bournemouth&quot;</td><td>&quot;Cardiff&quot;</td><td>2</td><td>0</td><td>&quot;H&quot;</td><td>1</td><td>0</td><td>&quot;H&quot;</td><td>&quot;K Friend&quot;</td><td>12</td><td>10</td><td>4</td><td>1</td><td>11</td><td>9</td><td>7</td><td>4</td><td>1</td><td>1</td><td>0</td><td>0</td></tr><tr><td>&quot;E0&quot;</td><td>&quot;2018-08-11&quot;</td><td>&quot;Fulham&quot;</td><td>&quot;Crystal Palace…</td><td>0</td><td>2</td><td>&quot;A&quot;</td><td>0</td><td>1</td><td>&quot;A&quot;</td><td>&quot;M Dean&quot;</td><td>15</td><td>10</td><td>6</td><td>9</td><td>9</td><td>11</td><td>5</td><td>5</td><td>1</td><td>2</td><td>0</td><td>0</td></tr><tr><td>&quot;E0&quot;</td><td>&quot;2018-08-11&quot;</td><td>&quot;Huddersfield&quot;</td><td>&quot;Chelsea&quot;</td><td>0</td><td>3</td><td>&quot;A&quot;</td><td>0</td><td>2</td><td>&quot;A&quot;</td><td>&quot;C Kavanagh&quot;</td><td>6</td><td>13</td><td>1</td><td>4</td><td>9</td><td>8</td><td>2</td><td>5</td><td>2</td><td>1</td><td>0</td><td>0</td></tr><tr><td>&quot;E0&quot;</td><td>&quot;2018-08-11&quot;</td><td>&quot;Newcastle&quot;</td><td>&quot;Tottenham&quot;</td><td>1</td><td>2</td><td>&quot;A&quot;</td><td>1</td><td>2</td><td>&quot;A&quot;</td><td>&quot;M Atkinson&quot;</td><td>15</td><td>15</td><td>2</td><td>5</td><td>11</td><td>12</td><td>3</td><td>5</td><td>2</td><td>2</td><td>0</td><td>0</td></tr><tr><td>&quot;E0&quot;</td><td>&quot;2018-08-11&quot;</td><td>&quot;Watford&quot;</td><td>&quot;Brighton&quot;</td><td>2</td><td>0</td><td>&quot;H&quot;</td><td>1</td><td>0</td><td>&quot;H&quot;</td><td>&quot;J Moss&quot;</td><td>19</td><td>6</td><td>5</td><td>0</td><td>10</td><td>16</td><td>8</td><td>2</td><td>2</td><td>2</td><td>0</td><td>0</td></tr><tr><td>&quot;E0&quot;</td><td>&quot;2018-08-11&quot;</td><td>&quot;Wolves&quot;</td><td>&quot;Everton&quot;</td><td>2</td><td>2</td><td>&quot;D&quot;</td><td>1</td><td>1</td><td>&quot;D&quot;</td><td>&quot;C Pawson&quot;</td><td>11</td><td>6</td><td>4</td><td>5</td><td>8</td><td>7</td><td>3</td><td>6</td><td>0</td><td>1</td><td>0</td><td>1</td></tr><tr><td>&quot;E0&quot;</td><td>&quot;2018-08-12&quot;</td><td>&quot;Arsenal&quot;</td><td>&quot;Man City&quot;</td><td>0</td><td>2</td><td>&quot;A&quot;</td><td>0</td><td>1</td><td>&quot;A&quot;</td><td>&quot;M Oliver&quot;</td><td>9</td><td>17</td><td>3</td><td>8</td><td>11</td><td>14</td><td>2</td><td>9</td><td>2</td><td>2</td><td>0</td><td>0</td></tr><tr><td>&quot;E0&quot;</td><td>&quot;2018-08-12&quot;</td><td>&quot;Liverpool&quot;</td><td>&quot;West Ham&quot;</td><td>4</td><td>0</td><td>&quot;H&quot;</td><td>2</td><td>0</td><td>&quot;H&quot;</td><td>&quot;A Taylor&quot;</td><td>18</td><td>5</td><td>8</td><td>2</td><td>14</td><td>9</td><td>5</td><td>4</td><td>1</td><td>2</td><td>0</td><td>0</td></tr><tr><td>&quot;E0&quot;</td><td>&quot;2018-08-12&quot;</td><td>&quot;Southampton&quot;</td><td>&quot;Burnley&quot;</td><td>0</td><td>0</td><td>&quot;D&quot;</td><td>0</td><td>0</td><td>&quot;D&quot;</td><td>&quot;G Scott&quot;</td><td>18</td><td>16</td><td>3</td><td>6</td><td>10</td><td>9</td><td>8</td><td>5</td><td>0</td><td>1</td><td>0</td><td>0</td></tr><tr><td>&quot;E0&quot;</td><td>&quot;2018-08-18&quot;</td><td>&quot;Cardiff&quot;</td><td>&quot;Newcastle&quot;</td><td>0</td><td>0</td><td>&quot;D&quot;</td><td>0</td><td>0</td><td>&quot;D&quot;</td><td>&quot;C Pawson&quot;</td><td>12</td><td>12</td><td>1</td><td>6</td><td>14</td><td>16</td><td>5</td><td>5</td><td>2</td><td>2</td><td>0</td><td>1</td></tr><tr><td>&quot;E0&quot;</td><td>&quot;2018-08-18&quot;</td><td>&quot;Chelsea&quot;</td><td>&quot;Arsenal&quot;</td><td>3</td><td>2</td><td>&quot;H&quot;</td><td>2</td><td>2</td><td>&quot;D&quot;</td><td>&quot;M Atkinson&quot;</td><td>24</td><td>15</td><td>11</td><td>6</td><td>12</td><td>9</td><td>5</td><td>1</td><td>0</td><td>2</td><td>0</td><td>0</td></tr><tr><td>&hellip;</td><td>&hellip;</td><td>&hellip;</td><td>&hellip;</td><td>&hellip;</td><td>&hellip;</td><td>&hellip;</td><td>&hellip;</td><td>&hellip;</td><td>&hellip;</td><td>&hellip;</td><td>&hellip;</td><td>&hellip;</td><td>&hellip;</td><td>&hellip;</td><td>&hellip;</td><td>&hellip;</td><td>&hellip;</td><td>&hellip;</td><td>&hellip;</td><td>&hellip;</td><td>&hellip;</td><td>&hellip;</td></tr><tr><td>&quot;E0&quot;</td><td>&quot;2019-05-05&quot;</td><td>&quot;Huddersfield&quot;</td><td>&quot;Man United&quot;</td><td>1</td><td>1</td><td>&quot;D&quot;</td><td>0</td><td>1</td><td>&quot;A&quot;</td><td>&quot;L Mason&quot;</td><td>7</td><td>23</td><td>3</td><td>7</td><td>10</td><td>10</td><td>3</td><td>7</td><td>1</td><td>1</td><td>0</td><td>0</td></tr><tr><td>&quot;E0&quot;</td><td>&quot;2019-05-06&quot;</td><td>&quot;Man City&quot;</td><td>&quot;Leicester&quot;</td><td>1</td><td>0</td><td>&quot;H&quot;</td><td>0</td><td>0</td><td>&quot;D&quot;</td><td>&quot;M Dean&quot;</td><td>19</td><td>7</td><td>5</td><td>2</td><td>12</td><td>5</td><td>11</td><td>0</td><td>3</td><td>2</td><td>0</td><td>0</td></tr><tr><td>&quot;E0&quot;</td><td>&quot;2019-05-12&quot;</td><td>&quot;Brighton&quot;</td><td>&quot;Man City&quot;</td><td>1</td><td>4</td><td>&quot;A&quot;</td><td>1</td><td>2</td><td>&quot;A&quot;</td><td>&quot;M Oliver&quot;</td><td>6</td><td>20</td><td>2</td><td>9</td><td>12</td><td>8</td><td>2</td><td>6</td><td>0</td><td>0</td><td>0</td><td>0</td></tr><tr><td>&quot;E0&quot;</td><td>&quot;2019-05-12&quot;</td><td>&quot;Burnley&quot;</td><td>&quot;Arsenal&quot;</td><td>1</td><td>3</td><td>&quot;A&quot;</td><td>0</td><td>0</td><td>&quot;D&quot;</td><td>&quot;M Dean&quot;</td><td>14</td><td>17</td><td>5</td><td>6</td><td>11</td><td>3</td><td>4</td><td>5</td><td>5</td><td>1</td><td>0</td><td>0</td></tr><tr><td>&quot;E0&quot;</td><td>&quot;2019-05-12&quot;</td><td>&quot;Crystal Palace…</td><td>&quot;Bournemouth&quot;</td><td>5</td><td>3</td><td>&quot;H&quot;</td><td>3</td><td>1</td><td>&quot;H&quot;</td><td>&quot;R East&quot;</td><td>17</td><td>16</td><td>8</td><td>8</td><td>11</td><td>8</td><td>4</td><td>4</td><td>3</td><td>0</td><td>0</td><td>0</td></tr><tr><td>&quot;E0&quot;</td><td>&quot;2019-05-12&quot;</td><td>&quot;Fulham&quot;</td><td>&quot;Newcastle&quot;</td><td>0</td><td>4</td><td>&quot;A&quot;</td><td>0</td><td>2</td><td>&quot;A&quot;</td><td>&quot;K Friend&quot;</td><td>16</td><td>13</td><td>2</td><td>6</td><td>6</td><td>8</td><td>5</td><td>5</td><td>1</td><td>0</td><td>0</td><td>0</td></tr><tr><td>&quot;E0&quot;</td><td>&quot;2019-05-12&quot;</td><td>&quot;Leicester&quot;</td><td>&quot;Chelsea&quot;</td><td>0</td><td>0</td><td>&quot;D&quot;</td><td>0</td><td>0</td><td>&quot;D&quot;</td><td>&quot;A Taylor&quot;</td><td>9</td><td>14</td><td>3</td><td>4</td><td>9</td><td>8</td><td>4</td><td>5</td><td>0</td><td>1</td><td>0</td><td>0</td></tr><tr><td>&quot;E0&quot;</td><td>&quot;2019-05-12&quot;</td><td>&quot;Liverpool&quot;</td><td>&quot;Wolves&quot;</td><td>2</td><td>0</td><td>&quot;H&quot;</td><td>1</td><td>0</td><td>&quot;H&quot;</td><td>&quot;M Atkinson&quot;</td><td>13</td><td>7</td><td>5</td><td>2</td><td>3</td><td>11</td><td>4</td><td>1</td><td>0</td><td>2</td><td>0</td><td>0</td></tr><tr><td>&quot;E0&quot;</td><td>&quot;2019-05-12&quot;</td><td>&quot;Man United&quot;</td><td>&quot;Cardiff&quot;</td><td>0</td><td>2</td><td>&quot;A&quot;</td><td>0</td><td>1</td><td>&quot;A&quot;</td><td>&quot;J Moss&quot;</td><td>26</td><td>13</td><td>10</td><td>4</td><td>9</td><td>6</td><td>11</td><td>2</td><td>3</td><td>3</td><td>0</td><td>0</td></tr><tr><td>&quot;E0&quot;</td><td>&quot;2019-05-12&quot;</td><td>&quot;Southampton&quot;</td><td>&quot;Huddersfield&quot;</td><td>1</td><td>1</td><td>&quot;D&quot;</td><td>1</td><td>0</td><td>&quot;H&quot;</td><td>&quot;L Probert&quot;</td><td>10</td><td>10</td><td>3</td><td>3</td><td>8</td><td>6</td><td>4</td><td>3</td><td>0</td><td>1</td><td>0</td><td>0</td></tr><tr><td>&quot;E0&quot;</td><td>&quot;2019-05-12&quot;</td><td>&quot;Tottenham&quot;</td><td>&quot;Everton&quot;</td><td>2</td><td>2</td><td>&quot;D&quot;</td><td>1</td><td>0</td><td>&quot;H&quot;</td><td>&quot;A Marriner&quot;</td><td>11</td><td>17</td><td>3</td><td>9</td><td>10</td><td>13</td><td>7</td><td>4</td><td>0</td><td>2</td><td>0</td><td>0</td></tr><tr><td>&quot;E0&quot;</td><td>&quot;2019-05-12&quot;</td><td>&quot;Watford&quot;</td><td>&quot;West Ham&quot;</td><td>1</td><td>4</td><td>&quot;A&quot;</td><td>0</td><td>2</td><td>&quot;A&quot;</td><td>&quot;C Kavanagh&quot;</td><td>17</td><td>16</td><td>8</td><td>9</td><td>10</td><td>10</td><td>7</td><td>2</td><td>1</td><td>0</td><td>1</td><td>0</td></tr></tbody></table></div>"
      ],
      "text/plain": [
       "shape: (380, 23)\n",
       "┌─────┬────────────┬──────────────┬────────────────┬───┬─────┬─────┬─────┬─────┐\n",
       "│ div ┆ date       ┆ hometeam     ┆ awayteam       ┆ … ┆ hy  ┆ ay  ┆ hr  ┆ ar  │\n",
       "│ --- ┆ ---        ┆ ---          ┆ ---            ┆   ┆ --- ┆ --- ┆ --- ┆ --- │\n",
       "│ str ┆ str        ┆ str          ┆ str            ┆   ┆ i64 ┆ i64 ┆ i64 ┆ i64 │\n",
       "╞═════╪════════════╪══════════════╪════════════════╪═══╪═════╪═════╪═════╪═════╡\n",
       "│ E0  ┆ 2018-08-10 ┆ Man United   ┆ Leicester      ┆ … ┆ 2   ┆ 1   ┆ 0   ┆ 0   │\n",
       "│ E0  ┆ 2018-08-11 ┆ Bournemouth  ┆ Cardiff        ┆ … ┆ 1   ┆ 1   ┆ 0   ┆ 0   │\n",
       "│ E0  ┆ 2018-08-11 ┆ Fulham       ┆ Crystal Palace ┆ … ┆ 1   ┆ 2   ┆ 0   ┆ 0   │\n",
       "│ E0  ┆ 2018-08-11 ┆ Huddersfield ┆ Chelsea        ┆ … ┆ 2   ┆ 1   ┆ 0   ┆ 0   │\n",
       "│ …   ┆ …          ┆ …            ┆ …              ┆ … ┆ …   ┆ …   ┆ …   ┆ …   │\n",
       "│ E0  ┆ 2019-05-12 ┆ Man United   ┆ Cardiff        ┆ … ┆ 3   ┆ 3   ┆ 0   ┆ 0   │\n",
       "│ E0  ┆ 2019-05-12 ┆ Southampton  ┆ Huddersfield   ┆ … ┆ 0   ┆ 1   ┆ 0   ┆ 0   │\n",
       "│ E0  ┆ 2019-05-12 ┆ Tottenham    ┆ Everton        ┆ … ┆ 0   ┆ 2   ┆ 0   ┆ 0   │\n",
       "│ E0  ┆ 2019-05-12 ┆ Watford      ┆ West Ham       ┆ … ┆ 1   ┆ 0   ┆ 1   ┆ 0   │\n",
       "└─────┴────────────┴──────────────┴────────────────┴───┴─────┴─────┴─────┴─────┘"
      ]
     },
     "execution_count": 46,
     "metadata": {},
     "output_type": "execute_result"
    }
   ],
   "source": [
    "import pandas as pd\n",
    "import matplotlib.pyplot as plt\n",
    "import seaborn as sns\n",
    "!pip install polars\n",
    "import polars as pl\n",
    "\n",
    "df = pl.read_csv(r\"C:\\Users\\jj_jo\\Documents\\premier_league_analysis_data.csv\")\n",
    "\n",
    "df\n"
   ]
  },
  {
   "cell_type": "code",
   "execution_count": 45,
   "id": "05fdfbb7",
   "metadata": {},
   "outputs": [
    {
     "data": {
      "text/html": [
       "<div><style>\n",
       ".dataframe > thead > tr,\n",
       ".dataframe > tbody > tr {\n",
       "  text-align: right;\n",
       "  white-space: pre-wrap;\n",
       "}\n",
       "</style>\n",
       "<small>shape: (380, 14)</small><table border=\"1\" class=\"dataframe\"><thead><tr><th>div</th><th>date</th><th>home team</th><th>away team</th><th>full time result</th><th>half time home goals</th><th>half time away goals</th><th>half time result</th><th>home fouls</th><th>away fouls</th><th>home red cards</th><th>away red cards</th><th>winner</th><th>count</th></tr><tr><td>str</td><td>str</td><td>str</td><td>str</td><td>str</td><td>i64</td><td>i64</td><td>str</td><td>i64</td><td>i64</td><td>i64</td><td>i64</td><td>str</td><td>i32</td></tr></thead><tbody><tr><td>&quot;E0&quot;</td><td>&quot;2018-08-10&quot;</td><td>&quot;Man United&quot;</td><td>&quot;Leicester&quot;</td><td>&quot;H&quot;</td><td>1</td><td>0</td><td>&quot;H&quot;</td><td>11</td><td>8</td><td>0</td><td>0</td><td>&quot;Man United&quot;</td><td>1</td></tr><tr><td>&quot;E0&quot;</td><td>&quot;2018-08-11&quot;</td><td>&quot;Bournemouth&quot;</td><td>&quot;Cardiff&quot;</td><td>&quot;H&quot;</td><td>1</td><td>0</td><td>&quot;H&quot;</td><td>11</td><td>9</td><td>0</td><td>0</td><td>&quot;Bournemouth&quot;</td><td>1</td></tr><tr><td>&quot;E0&quot;</td><td>&quot;2018-08-11&quot;</td><td>&quot;Fulham&quot;</td><td>&quot;Crystal Palace…</td><td>&quot;A&quot;</td><td>0</td><td>1</td><td>&quot;A&quot;</td><td>9</td><td>11</td><td>0</td><td>0</td><td>&quot;Crystal Palace…</td><td>1</td></tr><tr><td>&quot;E0&quot;</td><td>&quot;2018-08-11&quot;</td><td>&quot;Huddersfield&quot;</td><td>&quot;Chelsea&quot;</td><td>&quot;A&quot;</td><td>0</td><td>2</td><td>&quot;A&quot;</td><td>9</td><td>8</td><td>0</td><td>0</td><td>&quot;Chelsea&quot;</td><td>1</td></tr><tr><td>&quot;E0&quot;</td><td>&quot;2018-08-11&quot;</td><td>&quot;Newcastle&quot;</td><td>&quot;Tottenham&quot;</td><td>&quot;A&quot;</td><td>1</td><td>2</td><td>&quot;A&quot;</td><td>11</td><td>12</td><td>0</td><td>0</td><td>&quot;Tottenham&quot;</td><td>1</td></tr><tr><td>&quot;E0&quot;</td><td>&quot;2018-08-11&quot;</td><td>&quot;Watford&quot;</td><td>&quot;Brighton&quot;</td><td>&quot;H&quot;</td><td>1</td><td>0</td><td>&quot;H&quot;</td><td>10</td><td>16</td><td>0</td><td>0</td><td>&quot;Watford&quot;</td><td>1</td></tr><tr><td>&quot;E0&quot;</td><td>&quot;2018-08-11&quot;</td><td>&quot;Wolves&quot;</td><td>&quot;Everton&quot;</td><td>&quot;D&quot;</td><td>1</td><td>1</td><td>&quot;D&quot;</td><td>8</td><td>7</td><td>0</td><td>1</td><td>null</td><td>null</td></tr><tr><td>&quot;E0&quot;</td><td>&quot;2018-08-12&quot;</td><td>&quot;Arsenal&quot;</td><td>&quot;Man City&quot;</td><td>&quot;A&quot;</td><td>0</td><td>1</td><td>&quot;A&quot;</td><td>11</td><td>14</td><td>0</td><td>0</td><td>&quot;Man City&quot;</td><td>1</td></tr><tr><td>&quot;E0&quot;</td><td>&quot;2018-08-12&quot;</td><td>&quot;Liverpool&quot;</td><td>&quot;West Ham&quot;</td><td>&quot;H&quot;</td><td>2</td><td>0</td><td>&quot;H&quot;</td><td>14</td><td>9</td><td>0</td><td>0</td><td>&quot;Liverpool&quot;</td><td>1</td></tr><tr><td>&quot;E0&quot;</td><td>&quot;2018-08-12&quot;</td><td>&quot;Southampton&quot;</td><td>&quot;Burnley&quot;</td><td>&quot;D&quot;</td><td>0</td><td>0</td><td>&quot;D&quot;</td><td>10</td><td>9</td><td>0</td><td>0</td><td>null</td><td>null</td></tr><tr><td>&quot;E0&quot;</td><td>&quot;2018-08-18&quot;</td><td>&quot;Cardiff&quot;</td><td>&quot;Newcastle&quot;</td><td>&quot;D&quot;</td><td>0</td><td>0</td><td>&quot;D&quot;</td><td>14</td><td>16</td><td>0</td><td>1</td><td>null</td><td>null</td></tr><tr><td>&quot;E0&quot;</td><td>&quot;2018-08-18&quot;</td><td>&quot;Chelsea&quot;</td><td>&quot;Arsenal&quot;</td><td>&quot;H&quot;</td><td>2</td><td>2</td><td>&quot;D&quot;</td><td>12</td><td>9</td><td>0</td><td>0</td><td>&quot;Chelsea&quot;</td><td>1</td></tr><tr><td>&hellip;</td><td>&hellip;</td><td>&hellip;</td><td>&hellip;</td><td>&hellip;</td><td>&hellip;</td><td>&hellip;</td><td>&hellip;</td><td>&hellip;</td><td>&hellip;</td><td>&hellip;</td><td>&hellip;</td><td>&hellip;</td><td>&hellip;</td></tr><tr><td>&quot;E0&quot;</td><td>&quot;2019-05-05&quot;</td><td>&quot;Huddersfield&quot;</td><td>&quot;Man United&quot;</td><td>&quot;D&quot;</td><td>0</td><td>1</td><td>&quot;A&quot;</td><td>10</td><td>10</td><td>0</td><td>0</td><td>null</td><td>null</td></tr><tr><td>&quot;E0&quot;</td><td>&quot;2019-05-06&quot;</td><td>&quot;Man City&quot;</td><td>&quot;Leicester&quot;</td><td>&quot;H&quot;</td><td>0</td><td>0</td><td>&quot;D&quot;</td><td>12</td><td>5</td><td>0</td><td>0</td><td>&quot;Man City&quot;</td><td>1</td></tr><tr><td>&quot;E0&quot;</td><td>&quot;2019-05-12&quot;</td><td>&quot;Brighton&quot;</td><td>&quot;Man City&quot;</td><td>&quot;A&quot;</td><td>1</td><td>2</td><td>&quot;A&quot;</td><td>12</td><td>8</td><td>0</td><td>0</td><td>&quot;Man City&quot;</td><td>1</td></tr><tr><td>&quot;E0&quot;</td><td>&quot;2019-05-12&quot;</td><td>&quot;Burnley&quot;</td><td>&quot;Arsenal&quot;</td><td>&quot;A&quot;</td><td>0</td><td>0</td><td>&quot;D&quot;</td><td>11</td><td>3</td><td>0</td><td>0</td><td>&quot;Arsenal&quot;</td><td>1</td></tr><tr><td>&quot;E0&quot;</td><td>&quot;2019-05-12&quot;</td><td>&quot;Crystal Palace…</td><td>&quot;Bournemouth&quot;</td><td>&quot;H&quot;</td><td>3</td><td>1</td><td>&quot;H&quot;</td><td>11</td><td>8</td><td>0</td><td>0</td><td>&quot;Crystal Palace…</td><td>1</td></tr><tr><td>&quot;E0&quot;</td><td>&quot;2019-05-12&quot;</td><td>&quot;Fulham&quot;</td><td>&quot;Newcastle&quot;</td><td>&quot;A&quot;</td><td>0</td><td>2</td><td>&quot;A&quot;</td><td>6</td><td>8</td><td>0</td><td>0</td><td>&quot;Newcastle&quot;</td><td>1</td></tr><tr><td>&quot;E0&quot;</td><td>&quot;2019-05-12&quot;</td><td>&quot;Leicester&quot;</td><td>&quot;Chelsea&quot;</td><td>&quot;D&quot;</td><td>0</td><td>0</td><td>&quot;D&quot;</td><td>9</td><td>8</td><td>0</td><td>0</td><td>null</td><td>null</td></tr><tr><td>&quot;E0&quot;</td><td>&quot;2019-05-12&quot;</td><td>&quot;Liverpool&quot;</td><td>&quot;Wolves&quot;</td><td>&quot;H&quot;</td><td>1</td><td>0</td><td>&quot;H&quot;</td><td>3</td><td>11</td><td>0</td><td>0</td><td>&quot;Liverpool&quot;</td><td>1</td></tr><tr><td>&quot;E0&quot;</td><td>&quot;2019-05-12&quot;</td><td>&quot;Man United&quot;</td><td>&quot;Cardiff&quot;</td><td>&quot;A&quot;</td><td>0</td><td>1</td><td>&quot;A&quot;</td><td>9</td><td>6</td><td>0</td><td>0</td><td>&quot;Cardiff&quot;</td><td>1</td></tr><tr><td>&quot;E0&quot;</td><td>&quot;2019-05-12&quot;</td><td>&quot;Southampton&quot;</td><td>&quot;Huddersfield&quot;</td><td>&quot;D&quot;</td><td>1</td><td>0</td><td>&quot;H&quot;</td><td>8</td><td>6</td><td>0</td><td>0</td><td>null</td><td>null</td></tr><tr><td>&quot;E0&quot;</td><td>&quot;2019-05-12&quot;</td><td>&quot;Tottenham&quot;</td><td>&quot;Everton&quot;</td><td>&quot;D&quot;</td><td>1</td><td>0</td><td>&quot;H&quot;</td><td>10</td><td>13</td><td>0</td><td>0</td><td>null</td><td>null</td></tr><tr><td>&quot;E0&quot;</td><td>&quot;2019-05-12&quot;</td><td>&quot;Watford&quot;</td><td>&quot;West Ham&quot;</td><td>&quot;A&quot;</td><td>0</td><td>2</td><td>&quot;A&quot;</td><td>10</td><td>10</td><td>1</td><td>0</td><td>&quot;West Ham&quot;</td><td>1</td></tr></tbody></table></div>"
      ],
      "text/plain": [
       "shape: (380, 14)\n",
       "┌─────┬────────────┬──────────────┬────────────────┬───┬────────────────┬────────────────┬────────────────┬───────┐\n",
       "│ div ┆ date       ┆ home team    ┆ away team      ┆ … ┆ home red cards ┆ away red cards ┆ winner         ┆ count │\n",
       "│ --- ┆ ---        ┆ ---          ┆ ---            ┆   ┆ ---            ┆ ---            ┆ ---            ┆ ---   │\n",
       "│ str ┆ str        ┆ str          ┆ str            ┆   ┆ i64            ┆ i64            ┆ str            ┆ i32   │\n",
       "╞═════╪════════════╪══════════════╪════════════════╪═══╪════════════════╪════════════════╪════════════════╪═══════╡\n",
       "│ E0  ┆ 2018-08-10 ┆ Man United   ┆ Leicester      ┆ … ┆ 0              ┆ 0              ┆ Man United     ┆ 1     │\n",
       "│ E0  ┆ 2018-08-11 ┆ Bournemouth  ┆ Cardiff        ┆ … ┆ 0              ┆ 0              ┆ Bournemouth    ┆ 1     │\n",
       "│ E0  ┆ 2018-08-11 ┆ Fulham       ┆ Crystal Palace ┆ … ┆ 0              ┆ 0              ┆ Crystal Palace ┆ 1     │\n",
       "│ E0  ┆ 2018-08-11 ┆ Huddersfield ┆ Chelsea        ┆ … ┆ 0              ┆ 0              ┆ Chelsea        ┆ 1     │\n",
       "│ …   ┆ …          ┆ …            ┆ …              ┆ … ┆ …              ┆ …              ┆ …              ┆ …     │\n",
       "│ E0  ┆ 2019-05-12 ┆ Man United   ┆ Cardiff        ┆ … ┆ 0              ┆ 0              ┆ Cardiff        ┆ 1     │\n",
       "│ E0  ┆ 2019-05-12 ┆ Southampton  ┆ Huddersfield   ┆ … ┆ 0              ┆ 0              ┆ null           ┆ null  │\n",
       "│ E0  ┆ 2019-05-12 ┆ Tottenham    ┆ Everton        ┆ … ┆ 0              ┆ 0              ┆ null           ┆ null  │\n",
       "│ E0  ┆ 2019-05-12 ┆ Watford      ┆ West Ham       ┆ … ┆ 1              ┆ 0              ┆ West Ham       ┆ 1     │\n",
       "└─────┴────────────┴──────────────┴────────────────┴───┴────────────────┴────────────────┴────────────────┴───────┘"
      ]
     },
     "execution_count": 45,
     "metadata": {},
     "output_type": "execute_result"
    }
   ],
   "source": [
    "# dropping column names\n",
    "df = df.drop([\"hy\", \"ay\", \"ac\", \"yc\", \"hst\", \"ast\", \"hs\", \"as\", \"referee\", \"hc\"])\n",
    "df"
   ]
  },
  {
   "cell_type": "code",
   "execution_count": null,
   "id": "f9758abd",
   "metadata": {},
   "outputs": [],
   "source": [
    "# renaming column names\n",
    "\n",
    "df = df.rename({\"hometeam\":\"home team\", \n",
    "           \"awayteam\":\"away team\", \n",
    "           \"fthg\": \"full time home goals\",\n",
    "           \"ftag\": \"full time away goals\",\n",
    "          \"ftr\": \"full time result\",\n",
    "          \"hthg\": \"half time home goals\",\n",
    "          \"htag\": \"half time away goals\",\n",
    "          \"htr\": \"half time result\",\n",
    "          \"hf\": \"home fouls\",\n",
    "          \"af\": \"away fouls\",\n",
    "          \"hr\": \"home red cards\",\n",
    "          \"ar\": \"away red cards\"})\n",
    "\n",
    "df"
   ]
  },
  {
   "cell_type": "code",
   "execution_count": 43,
   "id": "cbbe0527",
   "metadata": {},
   "outputs": [
    {
     "data": {
      "text/html": [
       "<div><style>\n",
       ".dataframe > thead > tr,\n",
       ".dataframe > tbody > tr {\n",
       "  text-align: right;\n",
       "  white-space: pre-wrap;\n",
       "}\n",
       "</style>\n",
       "<small>shape: (20, 2)</small><table border=\"1\" class=\"dataframe\"><thead><tr><th>home team</th><th>total home fouls</th></tr><tr><td>str</td><td>i64</td></tr></thead><tbody><tr><td>&quot;Brighton&quot;</td><td>221</td></tr><tr><td>&quot;Watford&quot;</td><td>221</td></tr><tr><td>&quot;Southampton&quot;</td><td>219</td></tr><tr><td>&quot;Arsenal&quot;</td><td>218</td></tr><tr><td>&quot;Everton&quot;</td><td>218</td></tr><tr><td>&quot;Huddersfield&quot;</td><td>214</td></tr><tr><td>&quot;Man United&quot;</td><td>213</td></tr><tr><td>&quot;Newcastle&quot;</td><td>203</td></tr><tr><td>&quot;Fulham&quot;</td><td>199</td></tr><tr><td>&quot;Wolves&quot;</td><td>198</td></tr><tr><td>&quot;Cardiff&quot;</td><td>195</td></tr><tr><td>&quot;Bournemouth&quot;</td><td>187</td></tr><tr><td>&quot;Burnley&quot;</td><td>184</td></tr><tr><td>&quot;Leicester&quot;</td><td>184</td></tr><tr><td>&quot;Crystal Palace…</td><td>180</td></tr><tr><td>&quot;Tottenham&quot;</td><td>174</td></tr><tr><td>&quot;West Ham&quot;</td><td>165</td></tr><tr><td>&quot;Man City&quot;</td><td>162</td></tr><tr><td>&quot;Chelsea&quot;</td><td>154</td></tr><tr><td>&quot;Liverpool&quot;</td><td>149</td></tr></tbody></table></div>"
      ],
      "text/plain": [
       "shape: (20, 2)\n",
       "┌─────────────┬──────────────────┐\n",
       "│ home team   ┆ total home fouls │\n",
       "│ ---         ┆ ---              │\n",
       "│ str         ┆ i64              │\n",
       "╞═════════════╪══════════════════╡\n",
       "│ Brighton    ┆ 221              │\n",
       "│ Watford     ┆ 221              │\n",
       "│ Southampton ┆ 219              │\n",
       "│ Arsenal     ┆ 218              │\n",
       "│ …           ┆ …                │\n",
       "│ West Ham    ┆ 165              │\n",
       "│ Man City    ┆ 162              │\n",
       "│ Chelsea     ┆ 154              │\n",
       "│ Liverpool   ┆ 149              │\n",
       "└─────────────┴──────────────────┘"
      ]
     },
     "execution_count": 43,
     "metadata": {},
     "output_type": "execute_result"
    }
   ],
   "source": [
    "# grouping by home team and home foul\n",
    "\n",
    "home_foul = df.group_by(\"home team\").agg(\n",
    "    pl.col(\"home fouls\").sum().alias(\"total home fouls\")\n",
    ")\n",
    "home_foul = home_foul.sort(by = \"total home fouls\",descending = True)\n",
    "home_foul"
   ]
  },
  {
   "cell_type": "code",
   "execution_count": 42,
   "id": "f437986c",
   "metadata": {},
   "outputs": [
    {
     "data": {
      "text/html": [
       "<div><style>\n",
       ".dataframe > thead > tr,\n",
       ".dataframe > tbody > tr {\n",
       "  text-align: right;\n",
       "  white-space: pre-wrap;\n",
       "}\n",
       "</style>\n",
       "<small>shape: (20, 2)</small><table border=\"1\" class=\"dataframe\"><thead><tr><th>away team</th><th>total away fouls</th></tr><tr><td>str</td><td>i64</td></tr></thead><tbody><tr><td>&quot;Chelsea&quot;</td><td>185</td></tr><tr><td>&quot;Burnley&quot;</td><td>175</td></tr><tr><td>&quot;Crystal Palace…</td><td>206</td></tr><tr><td>&quot;Southampton&quot;</td><td>201</td></tr><tr><td>&quot;Everton&quot;</td><td>214</td></tr><tr><td>&quot;Brighton&quot;</td><td>242</td></tr><tr><td>&quot;Leicester&quot;</td><td>167</td></tr><tr><td>&quot;Bournemouth&quot;</td><td>152</td></tr><tr><td>&quot;Man United&quot;</td><td>220</td></tr><tr><td>&quot;Wolves&quot;</td><td>211</td></tr><tr><td>&quot;Liverpool&quot;</td><td>166</td></tr><tr><td>&quot;Tottenham&quot;</td><td>201</td></tr><tr><td>&quot;Cardiff&quot;</td><td>189</td></tr><tr><td>&quot;Huddersfield&quot;</td><td>206</td></tr><tr><td>&quot;Fulham&quot;</td><td>224</td></tr><tr><td>&quot;West Ham&quot;</td><td>166</td></tr><tr><td>&quot;Arsenal&quot;</td><td>194</td></tr><tr><td>&quot;Watford&quot;</td><td>212</td></tr><tr><td>&quot;Newcastle&quot;</td><td>219</td></tr><tr><td>&quot;Man City&quot;</td><td>166</td></tr></tbody></table></div>"
      ],
      "text/plain": [
       "shape: (20, 2)\n",
       "┌────────────────┬──────────────────┐\n",
       "│ away team      ┆ total away fouls │\n",
       "│ ---            ┆ ---              │\n",
       "│ str            ┆ i64              │\n",
       "╞════════════════╪══════════════════╡\n",
       "│ Chelsea        ┆ 185              │\n",
       "│ Burnley        ┆ 175              │\n",
       "│ Crystal Palace ┆ 206              │\n",
       "│ Southampton    ┆ 201              │\n",
       "│ …              ┆ …                │\n",
       "│ Arsenal        ┆ 194              │\n",
       "│ Watford        ┆ 212              │\n",
       "│ Newcastle      ┆ 219              │\n",
       "│ Man City       ┆ 166              │\n",
       "└────────────────┴──────────────────┘"
      ]
     },
     "execution_count": 42,
     "metadata": {},
     "output_type": "execute_result"
    }
   ],
   "source": [
    "# grouping by away team and away fouls\n",
    "\n",
    "away_foul = df.group_by(\"away team\").agg(\n",
    "        pl.col(\"away fouls\").sum().alias(\"total away fouls\")\n",
    ")\n",
    "away_foul"
   ]
  },
  {
   "cell_type": "code",
   "execution_count": 41,
   "id": "b2fb0c03",
   "metadata": {},
   "outputs": [
    {
     "data": {
      "text/html": [
       "<div><style>\n",
       ".dataframe > thead > tr,\n",
       ".dataframe > tbody > tr {\n",
       "  text-align: right;\n",
       "  white-space: pre-wrap;\n",
       "}\n",
       "</style>\n",
       "<small>shape: (20, 4)</small><table border=\"1\" class=\"dataframe\"><thead><tr><th>home team</th><th>total home fouls</th><th>total away fouls</th><th>total fouls</th></tr><tr><td>str</td><td>i64</td><td>i64</td><td>i64</td></tr></thead><tbody><tr><td>&quot;Brighton&quot;</td><td>221</td><td>242</td><td>463</td></tr><tr><td>&quot;Watford&quot;</td><td>221</td><td>212</td><td>433</td></tr><tr><td>&quot;Man United&quot;</td><td>213</td><td>220</td><td>433</td></tr><tr><td>&quot;Everton&quot;</td><td>218</td><td>214</td><td>432</td></tr><tr><td>&quot;Fulham&quot;</td><td>199</td><td>224</td><td>423</td></tr><tr><td>&quot;Newcastle&quot;</td><td>203</td><td>219</td><td>422</td></tr><tr><td>&quot;Huddersfield&quot;</td><td>214</td><td>206</td><td>420</td></tr><tr><td>&quot;Southampton&quot;</td><td>219</td><td>201</td><td>420</td></tr><tr><td>&quot;Arsenal&quot;</td><td>218</td><td>194</td><td>412</td></tr><tr><td>&quot;Wolves&quot;</td><td>198</td><td>211</td><td>409</td></tr><tr><td>&quot;Crystal Palace…</td><td>180</td><td>206</td><td>386</td></tr><tr><td>&quot;Cardiff&quot;</td><td>195</td><td>189</td><td>384</td></tr><tr><td>&quot;Tottenham&quot;</td><td>174</td><td>201</td><td>375</td></tr><tr><td>&quot;Burnley&quot;</td><td>184</td><td>175</td><td>359</td></tr><tr><td>&quot;Leicester&quot;</td><td>184</td><td>167</td><td>351</td></tr><tr><td>&quot;Chelsea&quot;</td><td>154</td><td>185</td><td>339</td></tr><tr><td>&quot;Bournemouth&quot;</td><td>187</td><td>152</td><td>339</td></tr><tr><td>&quot;West Ham&quot;</td><td>165</td><td>166</td><td>331</td></tr><tr><td>&quot;Man City&quot;</td><td>162</td><td>166</td><td>328</td></tr><tr><td>&quot;Liverpool&quot;</td><td>149</td><td>166</td><td>315</td></tr></tbody></table></div>"
      ],
      "text/plain": [
       "shape: (20, 4)\n",
       "┌─────────────┬──────────────────┬──────────────────┬─────────────┐\n",
       "│ home team   ┆ total home fouls ┆ total away fouls ┆ total fouls │\n",
       "│ ---         ┆ ---              ┆ ---              ┆ ---         │\n",
       "│ str         ┆ i64              ┆ i64              ┆ i64         │\n",
       "╞═════════════╪══════════════════╪══════════════════╪═════════════╡\n",
       "│ Brighton    ┆ 221              ┆ 242              ┆ 463         │\n",
       "│ Watford     ┆ 221              ┆ 212              ┆ 433         │\n",
       "│ Man United  ┆ 213              ┆ 220              ┆ 433         │\n",
       "│ Everton     ┆ 218              ┆ 214              ┆ 432         │\n",
       "│ …           ┆ …                ┆ …                ┆ …           │\n",
       "│ Bournemouth ┆ 187              ┆ 152              ┆ 339         │\n",
       "│ West Ham    ┆ 165              ┆ 166              ┆ 331         │\n",
       "│ Man City    ┆ 162              ┆ 166              ┆ 328         │\n",
       "│ Liverpool   ┆ 149              ┆ 166              ┆ 315         │\n",
       "└─────────────┴──────────────────┴──────────────────┴─────────────┘"
      ]
     },
     "execution_count": 41,
     "metadata": {},
     "output_type": "execute_result"
    }
   ],
   "source": [
    "# merging home foul and away foul tables\n",
    "# calculating total fouls\n",
    "\n",
    "merged_foul_data = home_foul.join(away_foul, left_on = \"home team\", right_on = \"away team\", how = \"outer\")\n",
    "\n",
    "merged_foul_data = merged_foul_data.select(\n",
    "    pl.col(\"*\"),\n",
    "    (pl.col(\"total home fouls\") + pl.col(\"total away fouls\")).alias(\"total fouls\")\n",
    ")\n",
    "\n",
    "merged_foul_data = merged_foul_data.sort(by = \"total fouls\", descending = True)\n",
    "merged_foul_data\n",
    "# Brighton commits the most fouls - 463"
   ]
  },
  {
   "cell_type": "code",
   "execution_count": 39,
   "id": "0b364c75",
   "metadata": {},
   "outputs": [
    {
     "data": {
      "text/html": [
       "<div><style>\n",
       ".dataframe > thead > tr,\n",
       ".dataframe > tbody > tr {\n",
       "  text-align: right;\n",
       "  white-space: pre-wrap;\n",
       "}\n",
       "</style>\n",
       "<small>shape: (380, 14)</small><table border=\"1\" class=\"dataframe\"><thead><tr><th>div</th><th>date</th><th>home team</th><th>away team</th><th>full time result</th><th>half time home goals</th><th>half time away goals</th><th>half time result</th><th>home fouls</th><th>away fouls</th><th>home red cards</th><th>away red cards</th><th>winner</th><th>count</th></tr><tr><td>str</td><td>str</td><td>str</td><td>str</td><td>str</td><td>i64</td><td>i64</td><td>str</td><td>i64</td><td>i64</td><td>i64</td><td>i64</td><td>str</td><td>i32</td></tr></thead><tbody><tr><td>&quot;E0&quot;</td><td>&quot;2018-08-10&quot;</td><td>&quot;Man United&quot;</td><td>&quot;Leicester&quot;</td><td>&quot;H&quot;</td><td>1</td><td>0</td><td>&quot;H&quot;</td><td>11</td><td>8</td><td>0</td><td>0</td><td>&quot;Man United&quot;</td><td>1</td></tr><tr><td>&quot;E0&quot;</td><td>&quot;2018-08-11&quot;</td><td>&quot;Bournemouth&quot;</td><td>&quot;Cardiff&quot;</td><td>&quot;H&quot;</td><td>1</td><td>0</td><td>&quot;H&quot;</td><td>11</td><td>9</td><td>0</td><td>0</td><td>&quot;Bournemouth&quot;</td><td>1</td></tr><tr><td>&quot;E0&quot;</td><td>&quot;2018-08-11&quot;</td><td>&quot;Fulham&quot;</td><td>&quot;Crystal Palace…</td><td>&quot;A&quot;</td><td>0</td><td>1</td><td>&quot;A&quot;</td><td>9</td><td>11</td><td>0</td><td>0</td><td>&quot;Crystal Palace…</td><td>1</td></tr><tr><td>&quot;E0&quot;</td><td>&quot;2018-08-11&quot;</td><td>&quot;Huddersfield&quot;</td><td>&quot;Chelsea&quot;</td><td>&quot;A&quot;</td><td>0</td><td>2</td><td>&quot;A&quot;</td><td>9</td><td>8</td><td>0</td><td>0</td><td>&quot;Chelsea&quot;</td><td>1</td></tr><tr><td>&quot;E0&quot;</td><td>&quot;2018-08-11&quot;</td><td>&quot;Newcastle&quot;</td><td>&quot;Tottenham&quot;</td><td>&quot;A&quot;</td><td>1</td><td>2</td><td>&quot;A&quot;</td><td>11</td><td>12</td><td>0</td><td>0</td><td>&quot;Tottenham&quot;</td><td>1</td></tr><tr><td>&quot;E0&quot;</td><td>&quot;2018-08-11&quot;</td><td>&quot;Watford&quot;</td><td>&quot;Brighton&quot;</td><td>&quot;H&quot;</td><td>1</td><td>0</td><td>&quot;H&quot;</td><td>10</td><td>16</td><td>0</td><td>0</td><td>&quot;Watford&quot;</td><td>1</td></tr><tr><td>&quot;E0&quot;</td><td>&quot;2018-08-11&quot;</td><td>&quot;Wolves&quot;</td><td>&quot;Everton&quot;</td><td>&quot;D&quot;</td><td>1</td><td>1</td><td>&quot;D&quot;</td><td>8</td><td>7</td><td>0</td><td>1</td><td>null</td><td>null</td></tr><tr><td>&quot;E0&quot;</td><td>&quot;2018-08-12&quot;</td><td>&quot;Arsenal&quot;</td><td>&quot;Man City&quot;</td><td>&quot;A&quot;</td><td>0</td><td>1</td><td>&quot;A&quot;</td><td>11</td><td>14</td><td>0</td><td>0</td><td>&quot;Man City&quot;</td><td>1</td></tr><tr><td>&quot;E0&quot;</td><td>&quot;2018-08-12&quot;</td><td>&quot;Liverpool&quot;</td><td>&quot;West Ham&quot;</td><td>&quot;H&quot;</td><td>2</td><td>0</td><td>&quot;H&quot;</td><td>14</td><td>9</td><td>0</td><td>0</td><td>&quot;Liverpool&quot;</td><td>1</td></tr><tr><td>&quot;E0&quot;</td><td>&quot;2018-08-12&quot;</td><td>&quot;Southampton&quot;</td><td>&quot;Burnley&quot;</td><td>&quot;D&quot;</td><td>0</td><td>0</td><td>&quot;D&quot;</td><td>10</td><td>9</td><td>0</td><td>0</td><td>null</td><td>null</td></tr><tr><td>&quot;E0&quot;</td><td>&quot;2018-08-18&quot;</td><td>&quot;Cardiff&quot;</td><td>&quot;Newcastle&quot;</td><td>&quot;D&quot;</td><td>0</td><td>0</td><td>&quot;D&quot;</td><td>14</td><td>16</td><td>0</td><td>1</td><td>null</td><td>null</td></tr><tr><td>&quot;E0&quot;</td><td>&quot;2018-08-18&quot;</td><td>&quot;Chelsea&quot;</td><td>&quot;Arsenal&quot;</td><td>&quot;H&quot;</td><td>2</td><td>2</td><td>&quot;D&quot;</td><td>12</td><td>9</td><td>0</td><td>0</td><td>&quot;Chelsea&quot;</td><td>1</td></tr><tr><td>&hellip;</td><td>&hellip;</td><td>&hellip;</td><td>&hellip;</td><td>&hellip;</td><td>&hellip;</td><td>&hellip;</td><td>&hellip;</td><td>&hellip;</td><td>&hellip;</td><td>&hellip;</td><td>&hellip;</td><td>&hellip;</td><td>&hellip;</td></tr><tr><td>&quot;E0&quot;</td><td>&quot;2019-05-05&quot;</td><td>&quot;Huddersfield&quot;</td><td>&quot;Man United&quot;</td><td>&quot;D&quot;</td><td>0</td><td>1</td><td>&quot;A&quot;</td><td>10</td><td>10</td><td>0</td><td>0</td><td>null</td><td>null</td></tr><tr><td>&quot;E0&quot;</td><td>&quot;2019-05-06&quot;</td><td>&quot;Man City&quot;</td><td>&quot;Leicester&quot;</td><td>&quot;H&quot;</td><td>0</td><td>0</td><td>&quot;D&quot;</td><td>12</td><td>5</td><td>0</td><td>0</td><td>&quot;Man City&quot;</td><td>1</td></tr><tr><td>&quot;E0&quot;</td><td>&quot;2019-05-12&quot;</td><td>&quot;Brighton&quot;</td><td>&quot;Man City&quot;</td><td>&quot;A&quot;</td><td>1</td><td>2</td><td>&quot;A&quot;</td><td>12</td><td>8</td><td>0</td><td>0</td><td>&quot;Man City&quot;</td><td>1</td></tr><tr><td>&quot;E0&quot;</td><td>&quot;2019-05-12&quot;</td><td>&quot;Burnley&quot;</td><td>&quot;Arsenal&quot;</td><td>&quot;A&quot;</td><td>0</td><td>0</td><td>&quot;D&quot;</td><td>11</td><td>3</td><td>0</td><td>0</td><td>&quot;Arsenal&quot;</td><td>1</td></tr><tr><td>&quot;E0&quot;</td><td>&quot;2019-05-12&quot;</td><td>&quot;Crystal Palace…</td><td>&quot;Bournemouth&quot;</td><td>&quot;H&quot;</td><td>3</td><td>1</td><td>&quot;H&quot;</td><td>11</td><td>8</td><td>0</td><td>0</td><td>&quot;Crystal Palace…</td><td>1</td></tr><tr><td>&quot;E0&quot;</td><td>&quot;2019-05-12&quot;</td><td>&quot;Fulham&quot;</td><td>&quot;Newcastle&quot;</td><td>&quot;A&quot;</td><td>0</td><td>2</td><td>&quot;A&quot;</td><td>6</td><td>8</td><td>0</td><td>0</td><td>&quot;Newcastle&quot;</td><td>1</td></tr><tr><td>&quot;E0&quot;</td><td>&quot;2019-05-12&quot;</td><td>&quot;Leicester&quot;</td><td>&quot;Chelsea&quot;</td><td>&quot;D&quot;</td><td>0</td><td>0</td><td>&quot;D&quot;</td><td>9</td><td>8</td><td>0</td><td>0</td><td>null</td><td>null</td></tr><tr><td>&quot;E0&quot;</td><td>&quot;2019-05-12&quot;</td><td>&quot;Liverpool&quot;</td><td>&quot;Wolves&quot;</td><td>&quot;H&quot;</td><td>1</td><td>0</td><td>&quot;H&quot;</td><td>3</td><td>11</td><td>0</td><td>0</td><td>&quot;Liverpool&quot;</td><td>1</td></tr><tr><td>&quot;E0&quot;</td><td>&quot;2019-05-12&quot;</td><td>&quot;Man United&quot;</td><td>&quot;Cardiff&quot;</td><td>&quot;A&quot;</td><td>0</td><td>1</td><td>&quot;A&quot;</td><td>9</td><td>6</td><td>0</td><td>0</td><td>&quot;Cardiff&quot;</td><td>1</td></tr><tr><td>&quot;E0&quot;</td><td>&quot;2019-05-12&quot;</td><td>&quot;Southampton&quot;</td><td>&quot;Huddersfield&quot;</td><td>&quot;D&quot;</td><td>1</td><td>0</td><td>&quot;H&quot;</td><td>8</td><td>6</td><td>0</td><td>0</td><td>null</td><td>null</td></tr><tr><td>&quot;E0&quot;</td><td>&quot;2019-05-12&quot;</td><td>&quot;Tottenham&quot;</td><td>&quot;Everton&quot;</td><td>&quot;D&quot;</td><td>1</td><td>0</td><td>&quot;H&quot;</td><td>10</td><td>13</td><td>0</td><td>0</td><td>null</td><td>null</td></tr><tr><td>&quot;E0&quot;</td><td>&quot;2019-05-12&quot;</td><td>&quot;Watford&quot;</td><td>&quot;West Ham&quot;</td><td>&quot;A&quot;</td><td>0</td><td>2</td><td>&quot;A&quot;</td><td>10</td><td>10</td><td>1</td><td>0</td><td>&quot;West Ham&quot;</td><td>1</td></tr></tbody></table></div>"
      ],
      "text/plain": [
       "shape: (380, 14)\n",
       "┌─────┬────────────┬──────────────┬────────────────┬───┬────────────────┬────────────────┬────────────────┬───────┐\n",
       "│ div ┆ date       ┆ home team    ┆ away team      ┆ … ┆ home red cards ┆ away red cards ┆ winner         ┆ count │\n",
       "│ --- ┆ ---        ┆ ---          ┆ ---            ┆   ┆ ---            ┆ ---            ┆ ---            ┆ ---   │\n",
       "│ str ┆ str        ┆ str          ┆ str            ┆   ┆ i64            ┆ i64            ┆ str            ┆ i32   │\n",
       "╞═════╪════════════╪══════════════╪════════════════╪═══╪════════════════╪════════════════╪════════════════╪═══════╡\n",
       "│ E0  ┆ 2018-08-10 ┆ Man United   ┆ Leicester      ┆ … ┆ 0              ┆ 0              ┆ Man United     ┆ 1     │\n",
       "│ E0  ┆ 2018-08-11 ┆ Bournemouth  ┆ Cardiff        ┆ … ┆ 0              ┆ 0              ┆ Bournemouth    ┆ 1     │\n",
       "│ E0  ┆ 2018-08-11 ┆ Fulham       ┆ Crystal Palace ┆ … ┆ 0              ┆ 0              ┆ Crystal Palace ┆ 1     │\n",
       "│ E0  ┆ 2018-08-11 ┆ Huddersfield ┆ Chelsea        ┆ … ┆ 0              ┆ 0              ┆ Chelsea        ┆ 1     │\n",
       "│ …   ┆ …          ┆ …            ┆ …              ┆ … ┆ …              ┆ …              ┆ …              ┆ …     │\n",
       "│ E0  ┆ 2019-05-12 ┆ Man United   ┆ Cardiff        ┆ … ┆ 0              ┆ 0              ┆ Cardiff        ┆ 1     │\n",
       "│ E0  ┆ 2019-05-12 ┆ Southampton  ┆ Huddersfield   ┆ … ┆ 0              ┆ 0              ┆ null           ┆ null  │\n",
       "│ E0  ┆ 2019-05-12 ┆ Tottenham    ┆ Everton        ┆ … ┆ 0              ┆ 0              ┆ null           ┆ null  │\n",
       "│ E0  ┆ 2019-05-12 ┆ Watford      ┆ West Ham       ┆ … ┆ 1              ┆ 0              ┆ West Ham       ┆ 1     │\n",
       "└─────┴────────────┴──────────────┴────────────────┴───┴────────────────┴────────────────┴────────────────┴───────┘"
      ]
     },
     "execution_count": 39,
     "metadata": {},
     "output_type": "execute_result"
    }
   ],
   "source": [
    "# Does the number of red cards a team receives have an effect on its probability of winning a game\n",
    "# Creating a new column that has the winning team name as a string so I can group team by num of times they won\n",
    "df = df.with_columns(\n",
    "    pl.when(pl.col(\"full time result\") == \"H\").then(pl.col(\"home team\"))\n",
    "    .when(pl.col(\"full time result\") == \"A\").then(pl.col(\"away team\"))\n",
    "    .alias(\"winner\")\n",
    "\n",
    ")\n",
    "\n",
    "df"
   ]
  },
  {
   "cell_type": "raw",
   "id": "6a8e037b",
   "metadata": {},
   "source": []
  },
  {
   "cell_type": "code",
   "execution_count": 35,
   "id": "61074eb3",
   "metadata": {},
   "outputs": [
    {
     "data": {
      "text/html": [
       "<div><style>\n",
       ".dataframe > thead > tr,\n",
       ".dataframe > tbody > tr {\n",
       "  text-align: right;\n",
       "  white-space: pre-wrap;\n",
       "}\n",
       "</style>\n",
       "<small>shape: (380, 14)</small><table border=\"1\" class=\"dataframe\"><thead><tr><th>div</th><th>date</th><th>home team</th><th>away team</th><th>full time result</th><th>half time home goals</th><th>half time away goals</th><th>half time result</th><th>home fouls</th><th>away fouls</th><th>home red cards</th><th>away red cards</th><th>winner</th><th>count</th></tr><tr><td>str</td><td>str</td><td>str</td><td>str</td><td>str</td><td>i64</td><td>i64</td><td>str</td><td>i64</td><td>i64</td><td>i64</td><td>i64</td><td>str</td><td>i32</td></tr></thead><tbody><tr><td>&quot;E0&quot;</td><td>&quot;2018-08-10&quot;</td><td>&quot;Man United&quot;</td><td>&quot;Leicester&quot;</td><td>&quot;H&quot;</td><td>1</td><td>0</td><td>&quot;H&quot;</td><td>11</td><td>8</td><td>0</td><td>0</td><td>&quot;Man United&quot;</td><td>1</td></tr><tr><td>&quot;E0&quot;</td><td>&quot;2018-08-11&quot;</td><td>&quot;Bournemouth&quot;</td><td>&quot;Cardiff&quot;</td><td>&quot;H&quot;</td><td>1</td><td>0</td><td>&quot;H&quot;</td><td>11</td><td>9</td><td>0</td><td>0</td><td>&quot;Bournemouth&quot;</td><td>1</td></tr><tr><td>&quot;E0&quot;</td><td>&quot;2018-08-11&quot;</td><td>&quot;Fulham&quot;</td><td>&quot;Crystal Palace…</td><td>&quot;A&quot;</td><td>0</td><td>1</td><td>&quot;A&quot;</td><td>9</td><td>11</td><td>0</td><td>0</td><td>&quot;Crystal Palace…</td><td>1</td></tr><tr><td>&quot;E0&quot;</td><td>&quot;2018-08-11&quot;</td><td>&quot;Huddersfield&quot;</td><td>&quot;Chelsea&quot;</td><td>&quot;A&quot;</td><td>0</td><td>2</td><td>&quot;A&quot;</td><td>9</td><td>8</td><td>0</td><td>0</td><td>&quot;Chelsea&quot;</td><td>1</td></tr><tr><td>&quot;E0&quot;</td><td>&quot;2018-08-11&quot;</td><td>&quot;Newcastle&quot;</td><td>&quot;Tottenham&quot;</td><td>&quot;A&quot;</td><td>1</td><td>2</td><td>&quot;A&quot;</td><td>11</td><td>12</td><td>0</td><td>0</td><td>&quot;Tottenham&quot;</td><td>1</td></tr><tr><td>&quot;E0&quot;</td><td>&quot;2018-08-11&quot;</td><td>&quot;Watford&quot;</td><td>&quot;Brighton&quot;</td><td>&quot;H&quot;</td><td>1</td><td>0</td><td>&quot;H&quot;</td><td>10</td><td>16</td><td>0</td><td>0</td><td>&quot;Watford&quot;</td><td>1</td></tr><tr><td>&quot;E0&quot;</td><td>&quot;2018-08-11&quot;</td><td>&quot;Wolves&quot;</td><td>&quot;Everton&quot;</td><td>&quot;D&quot;</td><td>1</td><td>1</td><td>&quot;D&quot;</td><td>8</td><td>7</td><td>0</td><td>1</td><td>null</td><td>null</td></tr><tr><td>&quot;E0&quot;</td><td>&quot;2018-08-12&quot;</td><td>&quot;Arsenal&quot;</td><td>&quot;Man City&quot;</td><td>&quot;A&quot;</td><td>0</td><td>1</td><td>&quot;A&quot;</td><td>11</td><td>14</td><td>0</td><td>0</td><td>&quot;Man City&quot;</td><td>1</td></tr><tr><td>&quot;E0&quot;</td><td>&quot;2018-08-12&quot;</td><td>&quot;Liverpool&quot;</td><td>&quot;West Ham&quot;</td><td>&quot;H&quot;</td><td>2</td><td>0</td><td>&quot;H&quot;</td><td>14</td><td>9</td><td>0</td><td>0</td><td>&quot;Liverpool&quot;</td><td>1</td></tr><tr><td>&quot;E0&quot;</td><td>&quot;2018-08-12&quot;</td><td>&quot;Southampton&quot;</td><td>&quot;Burnley&quot;</td><td>&quot;D&quot;</td><td>0</td><td>0</td><td>&quot;D&quot;</td><td>10</td><td>9</td><td>0</td><td>0</td><td>null</td><td>null</td></tr><tr><td>&quot;E0&quot;</td><td>&quot;2018-08-18&quot;</td><td>&quot;Cardiff&quot;</td><td>&quot;Newcastle&quot;</td><td>&quot;D&quot;</td><td>0</td><td>0</td><td>&quot;D&quot;</td><td>14</td><td>16</td><td>0</td><td>1</td><td>null</td><td>null</td></tr><tr><td>&quot;E0&quot;</td><td>&quot;2018-08-18&quot;</td><td>&quot;Chelsea&quot;</td><td>&quot;Arsenal&quot;</td><td>&quot;H&quot;</td><td>2</td><td>2</td><td>&quot;D&quot;</td><td>12</td><td>9</td><td>0</td><td>0</td><td>&quot;Chelsea&quot;</td><td>1</td></tr><tr><td>&hellip;</td><td>&hellip;</td><td>&hellip;</td><td>&hellip;</td><td>&hellip;</td><td>&hellip;</td><td>&hellip;</td><td>&hellip;</td><td>&hellip;</td><td>&hellip;</td><td>&hellip;</td><td>&hellip;</td><td>&hellip;</td><td>&hellip;</td></tr><tr><td>&quot;E0&quot;</td><td>&quot;2019-05-05&quot;</td><td>&quot;Huddersfield&quot;</td><td>&quot;Man United&quot;</td><td>&quot;D&quot;</td><td>0</td><td>1</td><td>&quot;A&quot;</td><td>10</td><td>10</td><td>0</td><td>0</td><td>null</td><td>null</td></tr><tr><td>&quot;E0&quot;</td><td>&quot;2019-05-06&quot;</td><td>&quot;Man City&quot;</td><td>&quot;Leicester&quot;</td><td>&quot;H&quot;</td><td>0</td><td>0</td><td>&quot;D&quot;</td><td>12</td><td>5</td><td>0</td><td>0</td><td>&quot;Man City&quot;</td><td>1</td></tr><tr><td>&quot;E0&quot;</td><td>&quot;2019-05-12&quot;</td><td>&quot;Brighton&quot;</td><td>&quot;Man City&quot;</td><td>&quot;A&quot;</td><td>1</td><td>2</td><td>&quot;A&quot;</td><td>12</td><td>8</td><td>0</td><td>0</td><td>&quot;Man City&quot;</td><td>1</td></tr><tr><td>&quot;E0&quot;</td><td>&quot;2019-05-12&quot;</td><td>&quot;Burnley&quot;</td><td>&quot;Arsenal&quot;</td><td>&quot;A&quot;</td><td>0</td><td>0</td><td>&quot;D&quot;</td><td>11</td><td>3</td><td>0</td><td>0</td><td>&quot;Arsenal&quot;</td><td>1</td></tr><tr><td>&quot;E0&quot;</td><td>&quot;2019-05-12&quot;</td><td>&quot;Crystal Palace…</td><td>&quot;Bournemouth&quot;</td><td>&quot;H&quot;</td><td>3</td><td>1</td><td>&quot;H&quot;</td><td>11</td><td>8</td><td>0</td><td>0</td><td>&quot;Crystal Palace…</td><td>1</td></tr><tr><td>&quot;E0&quot;</td><td>&quot;2019-05-12&quot;</td><td>&quot;Fulham&quot;</td><td>&quot;Newcastle&quot;</td><td>&quot;A&quot;</td><td>0</td><td>2</td><td>&quot;A&quot;</td><td>6</td><td>8</td><td>0</td><td>0</td><td>&quot;Newcastle&quot;</td><td>1</td></tr><tr><td>&quot;E0&quot;</td><td>&quot;2019-05-12&quot;</td><td>&quot;Leicester&quot;</td><td>&quot;Chelsea&quot;</td><td>&quot;D&quot;</td><td>0</td><td>0</td><td>&quot;D&quot;</td><td>9</td><td>8</td><td>0</td><td>0</td><td>null</td><td>null</td></tr><tr><td>&quot;E0&quot;</td><td>&quot;2019-05-12&quot;</td><td>&quot;Liverpool&quot;</td><td>&quot;Wolves&quot;</td><td>&quot;H&quot;</td><td>1</td><td>0</td><td>&quot;H&quot;</td><td>3</td><td>11</td><td>0</td><td>0</td><td>&quot;Liverpool&quot;</td><td>1</td></tr><tr><td>&quot;E0&quot;</td><td>&quot;2019-05-12&quot;</td><td>&quot;Man United&quot;</td><td>&quot;Cardiff&quot;</td><td>&quot;A&quot;</td><td>0</td><td>1</td><td>&quot;A&quot;</td><td>9</td><td>6</td><td>0</td><td>0</td><td>&quot;Cardiff&quot;</td><td>1</td></tr><tr><td>&quot;E0&quot;</td><td>&quot;2019-05-12&quot;</td><td>&quot;Southampton&quot;</td><td>&quot;Huddersfield&quot;</td><td>&quot;D&quot;</td><td>1</td><td>0</td><td>&quot;H&quot;</td><td>8</td><td>6</td><td>0</td><td>0</td><td>null</td><td>null</td></tr><tr><td>&quot;E0&quot;</td><td>&quot;2019-05-12&quot;</td><td>&quot;Tottenham&quot;</td><td>&quot;Everton&quot;</td><td>&quot;D&quot;</td><td>1</td><td>0</td><td>&quot;H&quot;</td><td>10</td><td>13</td><td>0</td><td>0</td><td>null</td><td>null</td></tr><tr><td>&quot;E0&quot;</td><td>&quot;2019-05-12&quot;</td><td>&quot;Watford&quot;</td><td>&quot;West Ham&quot;</td><td>&quot;A&quot;</td><td>0</td><td>2</td><td>&quot;A&quot;</td><td>10</td><td>10</td><td>1</td><td>0</td><td>&quot;West Ham&quot;</td><td>1</td></tr></tbody></table></div>"
      ],
      "text/plain": [
       "shape: (380, 14)\n",
       "┌─────┬────────────┬──────────────┬────────────────┬───┬────────────────┬────────────────┬────────────────┬───────┐\n",
       "│ div ┆ date       ┆ home team    ┆ away team      ┆ … ┆ home red cards ┆ away red cards ┆ winner         ┆ count │\n",
       "│ --- ┆ ---        ┆ ---          ┆ ---            ┆   ┆ ---            ┆ ---            ┆ ---            ┆ ---   │\n",
       "│ str ┆ str        ┆ str          ┆ str            ┆   ┆ i64            ┆ i64            ┆ str            ┆ i32   │\n",
       "╞═════╪════════════╪══════════════╪════════════════╪═══╪════════════════╪════════════════╪════════════════╪═══════╡\n",
       "│ E0  ┆ 2018-08-10 ┆ Man United   ┆ Leicester      ┆ … ┆ 0              ┆ 0              ┆ Man United     ┆ 1     │\n",
       "│ E0  ┆ 2018-08-11 ┆ Bournemouth  ┆ Cardiff        ┆ … ┆ 0              ┆ 0              ┆ Bournemouth    ┆ 1     │\n",
       "│ E0  ┆ 2018-08-11 ┆ Fulham       ┆ Crystal Palace ┆ … ┆ 0              ┆ 0              ┆ Crystal Palace ┆ 1     │\n",
       "│ E0  ┆ 2018-08-11 ┆ Huddersfield ┆ Chelsea        ┆ … ┆ 0              ┆ 0              ┆ Chelsea        ┆ 1     │\n",
       "│ …   ┆ …          ┆ …            ┆ …              ┆ … ┆ …              ┆ …              ┆ …              ┆ …     │\n",
       "│ E0  ┆ 2019-05-12 ┆ Man United   ┆ Cardiff        ┆ … ┆ 0              ┆ 0              ┆ Cardiff        ┆ 1     │\n",
       "│ E0  ┆ 2019-05-12 ┆ Southampton  ┆ Huddersfield   ┆ … ┆ 0              ┆ 0              ┆ null           ┆ null  │\n",
       "│ E0  ┆ 2019-05-12 ┆ Tottenham    ┆ Everton        ┆ … ┆ 0              ┆ 0              ┆ null           ┆ null  │\n",
       "│ E0  ┆ 2019-05-12 ┆ Watford      ┆ West Ham       ┆ … ┆ 1              ┆ 0              ┆ West Ham       ┆ 1     │\n",
       "└─────┴────────────┴──────────────┴────────────────┴───┴────────────────┴────────────────┴────────────────┴───────┘"
      ]
     },
     "execution_count": 35,
     "metadata": {},
     "output_type": "execute_result"
    }
   ],
   "source": [
    "# how many games has each team won\n",
    "# Storing a win as 1 and a loss as 0\n",
    "\n",
    "df = df.with_columns(\n",
    "    pl.when(pl.col(\"full time result\") == \"H\").then(1)\n",
    "    .when(pl.col(\"full time result\") == \"A\").then(1)\n",
    "    .alias(\"count\")\n",
    "    \n",
    "\n",
    ")\n",
    "\n",
    "df"
   ]
  },
  {
   "cell_type": "code",
   "execution_count": 36,
   "id": "b6afff44",
   "metadata": {},
   "outputs": [
    {
     "data": {
      "text/html": [
       "<div><style>\n",
       ".dataframe > thead > tr,\n",
       ".dataframe > tbody > tr {\n",
       "  text-align: right;\n",
       "  white-space: pre-wrap;\n",
       "}\n",
       "</style>\n",
       "<small>shape: (21, 2)</small><table border=\"1\" class=\"dataframe\"><thead><tr><th>team</th><th>num of wins</th></tr><tr><td>str</td><td>u32</td></tr></thead><tbody><tr><td>&quot;Crystal Palace…</td><td>14</td></tr><tr><td>&quot;Man United&quot;</td><td>19</td></tr><tr><td>&quot;Bournemouth&quot;</td><td>13</td></tr><tr><td>&quot;Liverpool&quot;</td><td>30</td></tr><tr><td>&quot;Everton&quot;</td><td>15</td></tr><tr><td>&quot;Southampton&quot;</td><td>9</td></tr><tr><td>&quot;Cardiff&quot;</td><td>10</td></tr><tr><td>&quot;Leicester&quot;</td><td>15</td></tr><tr><td>&quot;Tottenham&quot;</td><td>23</td></tr><tr><td>&quot;Newcastle&quot;</td><td>12</td></tr><tr><td>null</td><td>71</td></tr><tr><td>&quot;Man City&quot;</td><td>32</td></tr><tr><td>&quot;Arsenal&quot;</td><td>21</td></tr><tr><td>&quot;Watford&quot;</td><td>14</td></tr><tr><td>&quot;Fulham&quot;</td><td>7</td></tr><tr><td>&quot;Wolves&quot;</td><td>16</td></tr><tr><td>&quot;Huddersfield&quot;</td><td>3</td></tr><tr><td>&quot;Brighton&quot;</td><td>9</td></tr><tr><td>&quot;Chelsea&quot;</td><td>21</td></tr><tr><td>&quot;Burnley&quot;</td><td>11</td></tr><tr><td>&quot;West Ham&quot;</td><td>15</td></tr></tbody></table></div>"
      ],
      "text/plain": [
       "shape: (21, 2)\n",
       "┌────────────────┬─────────────┐\n",
       "│ team           ┆ num of wins │\n",
       "│ ---            ┆ ---         │\n",
       "│ str            ┆ u32         │\n",
       "╞════════════════╪═════════════╡\n",
       "│ Crystal Palace ┆ 14          │\n",
       "│ Man United     ┆ 19          │\n",
       "│ Bournemouth    ┆ 13          │\n",
       "│ Liverpool      ┆ 30          │\n",
       "│ …              ┆ …           │\n",
       "│ Brighton       ┆ 9           │\n",
       "│ Chelsea        ┆ 21          │\n",
       "│ Burnley        ┆ 11          │\n",
       "│ West Ham       ┆ 15          │\n",
       "└────────────────┴─────────────┘"
      ]
     },
     "execution_count": 36,
     "metadata": {},
     "output_type": "execute_result"
    }
   ],
   "source": [
    "# grouping teams and the number of wins they have\n",
    "# counting how many wins each team has\n",
    "\n",
    "num_of_wins_data = df.group_by(\"winner\").agg(pl.col(\"count\").count())\n",
    "num_of_wins_data = num_of_wins_data.rename({\"count\": \"num of wins\", \"winner\": \"team\"})\n",
    "num_of_wins_data"
   ]
  },
  {
   "cell_type": "code",
   "execution_count": 32,
   "id": "81a7e713",
   "metadata": {},
   "outputs": [
    {
     "data": {
      "text/html": [
       "<div><style>\n",
       ".dataframe > thead > tr,\n",
       ".dataframe > tbody > tr {\n",
       "  text-align: right;\n",
       "  white-space: pre-wrap;\n",
       "}\n",
       "</style>\n",
       "<small>shape: (20, 2)</small><table border=\"1\" class=\"dataframe\"><thead><tr><th>away team</th><th>total away red cards</th></tr><tr><td>str</td><td>i64</td></tr></thead><tbody><tr><td>&quot;Brighton&quot;</td><td>2</td></tr><tr><td>&quot;West Ham&quot;</td><td>1</td></tr><tr><td>&quot;Man United&quot;</td><td>3</td></tr><tr><td>&quot;Cardiff&quot;</td><td>1</td></tr><tr><td>&quot;Arsenal&quot;</td><td>2</td></tr><tr><td>&quot;Chelsea&quot;</td><td>0</td></tr><tr><td>&quot;Man City&quot;</td><td>1</td></tr><tr><td>&quot;Newcastle&quot;</td><td>1</td></tr><tr><td>&quot;Wolves&quot;</td><td>1</td></tr><tr><td>&quot;Southampton&quot;</td><td>1</td></tr><tr><td>&quot;Crystal Palace…</td><td>1</td></tr><tr><td>&quot;Leicester&quot;</td><td>3</td></tr><tr><td>&quot;Fulham&quot;</td><td>1</td></tr><tr><td>&quot;Liverpool&quot;</td><td>1</td></tr><tr><td>&quot;Everton&quot;</td><td>4</td></tr><tr><td>&quot;Watford&quot;</td><td>1</td></tr><tr><td>&quot;Tottenham&quot;</td><td>3</td></tr><tr><td>&quot;Bournemouth&quot;</td><td>0</td></tr><tr><td>&quot;Huddersfield&quot;</td><td>1</td></tr><tr><td>&quot;Burnley&quot;</td><td>1</td></tr></tbody></table></div>"
      ],
      "text/plain": [
       "shape: (20, 2)\n",
       "┌──────────────┬──────────────────────┐\n",
       "│ away team    ┆ total away red cards │\n",
       "│ ---          ┆ ---                  │\n",
       "│ str          ┆ i64                  │\n",
       "╞══════════════╪══════════════════════╡\n",
       "│ Brighton     ┆ 2                    │\n",
       "│ West Ham     ┆ 1                    │\n",
       "│ Man United   ┆ 3                    │\n",
       "│ Cardiff      ┆ 1                    │\n",
       "│ …            ┆ …                    │\n",
       "│ Tottenham    ┆ 3                    │\n",
       "│ Bournemouth  ┆ 0                    │\n",
       "│ Huddersfield ┆ 1                    │\n",
       "│ Burnley      ┆ 1                    │\n",
       "└──────────────┴──────────────────────┘"
      ]
     },
     "execution_count": 32,
     "metadata": {},
     "output_type": "execute_result"
    }
   ],
   "source": [
    "# grouping home and away teams with the number of red cards they have\n",
    "\n",
    "home_data = df.group_by(\"home team\").agg(pl.col(\"home red cards\").sum().alias(\"total home red cards\"))\n",
    "away_data = df.group_by(\"away team\").agg(pl.col(\"away red cards\").sum().alias(\"total away red cards\"))\n",
    "away_data"
   ]
  },
  {
   "cell_type": "code",
   "execution_count": 31,
   "id": "7cbb1748",
   "metadata": {},
   "outputs": [
    {
     "data": {
      "text/html": [
       "<div><style>\n",
       ".dataframe > thead > tr,\n",
       ".dataframe > tbody > tr {\n",
       "  text-align: right;\n",
       "  white-space: pre-wrap;\n",
       "}\n",
       "</style>\n",
       "<small>shape: (20, 3)</small><table border=\"1\" class=\"dataframe\"><thead><tr><th>team</th><th>total home red cards</th><th>total away red cards</th></tr><tr><td>str</td><td>i64</td><td>i64</td></tr></thead><tbody><tr><td>&quot;Burnley&quot;</td><td>0</td><td>1</td></tr><tr><td>&quot;West Ham&quot;</td><td>0</td><td>1</td></tr><tr><td>&quot;Wolves&quot;</td><td>0</td><td>1</td></tr><tr><td>&quot;Watford&quot;</td><td>3</td><td>1</td></tr><tr><td>&quot;Leicester&quot;</td><td>2</td><td>3</td></tr><tr><td>&quot;Arsenal&quot;</td><td>0</td><td>2</td></tr><tr><td>&quot;Cardiff&quot;</td><td>0</td><td>1</td></tr><tr><td>&quot;Southampton&quot;</td><td>2</td><td>1</td></tr><tr><td>&quot;Liverpool&quot;</td><td>1</td><td>1</td></tr><tr><td>&quot;Fulham&quot;</td><td>1</td><td>1</td></tr><tr><td>&quot;Newcastle&quot;</td><td>1</td><td>1</td></tr><tr><td>&quot;Crystal Palace…</td><td>1</td><td>1</td></tr><tr><td>&quot;Tottenham&quot;</td><td>0</td><td>3</td></tr><tr><td>&quot;Huddersfield&quot;</td><td>3</td><td>1</td></tr><tr><td>&quot;Everton&quot;</td><td>0</td><td>4</td></tr><tr><td>&quot;Brighton&quot;</td><td>2</td><td>2</td></tr><tr><td>&quot;Man City&quot;</td><td>0</td><td>1</td></tr><tr><td>&quot;Chelsea&quot;</td><td>0</td><td>0</td></tr><tr><td>&quot;Man United&quot;</td><td>1</td><td>3</td></tr><tr><td>&quot;Bournemouth&quot;</td><td>1</td><td>0</td></tr></tbody></table></div>"
      ],
      "text/plain": [
       "shape: (20, 3)\n",
       "┌─────────────┬──────────────────────┬──────────────────────┐\n",
       "│ team        ┆ total home red cards ┆ total away red cards │\n",
       "│ ---         ┆ ---                  ┆ ---                  │\n",
       "│ str         ┆ i64                  ┆ i64                  │\n",
       "╞═════════════╪══════════════════════╪══════════════════════╡\n",
       "│ Burnley     ┆ 0                    ┆ 1                    │\n",
       "│ West Ham    ┆ 0                    ┆ 1                    │\n",
       "│ Wolves      ┆ 0                    ┆ 1                    │\n",
       "│ Watford     ┆ 3                    ┆ 1                    │\n",
       "│ …           ┆ …                    ┆ …                    │\n",
       "│ Man City    ┆ 0                    ┆ 1                    │\n",
       "│ Chelsea     ┆ 0                    ┆ 0                    │\n",
       "│ Man United  ┆ 1                    ┆ 3                    │\n",
       "│ Bournemouth ┆ 1                    ┆ 0                    │\n",
       "└─────────────┴──────────────────────┴──────────────────────┘"
      ]
     },
     "execution_count": 31,
     "metadata": {},
     "output_type": "execute_result"
    }
   ],
   "source": [
    "# merging home team and away team red card data into one df\n",
    "\n",
    "merge_red_card_data = home_data.join(away_data, left_on = \"home team\", right_on = \"away team\", how = \"outer\")\n",
    "merge_red_card_data = merge_red_card_data.rename({\"home team\": \"team\"})\n",
    "merge_red_card_data"
   ]
  },
  {
   "cell_type": "code",
   "execution_count": 29,
   "id": "8ddb8bc3",
   "metadata": {},
   "outputs": [
    {
     "data": {
      "text/html": [
       "<div><style>\n",
       ".dataframe > thead > tr,\n",
       ".dataframe > tbody > tr {\n",
       "  text-align: right;\n",
       "  white-space: pre-wrap;\n",
       "}\n",
       "</style>\n",
       "<small>shape: (20, 4)</small><table border=\"1\" class=\"dataframe\"><thead><tr><th>team</th><th>total home red cards</th><th>total away red cards</th><th>total red cards</th></tr><tr><td>str</td><td>i64</td><td>i64</td><td>i64</td></tr></thead><tbody><tr><td>&quot;Burnley&quot;</td><td>0</td><td>1</td><td>1</td></tr><tr><td>&quot;West Ham&quot;</td><td>0</td><td>1</td><td>1</td></tr><tr><td>&quot;Wolves&quot;</td><td>0</td><td>1</td><td>1</td></tr><tr><td>&quot;Watford&quot;</td><td>3</td><td>1</td><td>4</td></tr><tr><td>&quot;Leicester&quot;</td><td>2</td><td>3</td><td>5</td></tr><tr><td>&quot;Arsenal&quot;</td><td>0</td><td>2</td><td>2</td></tr><tr><td>&quot;Cardiff&quot;</td><td>0</td><td>1</td><td>1</td></tr><tr><td>&quot;Southampton&quot;</td><td>2</td><td>1</td><td>3</td></tr><tr><td>&quot;Liverpool&quot;</td><td>1</td><td>1</td><td>2</td></tr><tr><td>&quot;Fulham&quot;</td><td>1</td><td>1</td><td>2</td></tr><tr><td>&quot;Newcastle&quot;</td><td>1</td><td>1</td><td>2</td></tr><tr><td>&quot;Crystal Palace…</td><td>1</td><td>1</td><td>2</td></tr><tr><td>&quot;Tottenham&quot;</td><td>0</td><td>3</td><td>3</td></tr><tr><td>&quot;Huddersfield&quot;</td><td>3</td><td>1</td><td>4</td></tr><tr><td>&quot;Everton&quot;</td><td>0</td><td>4</td><td>4</td></tr><tr><td>&quot;Brighton&quot;</td><td>2</td><td>2</td><td>4</td></tr><tr><td>&quot;Man City&quot;</td><td>0</td><td>1</td><td>1</td></tr><tr><td>&quot;Chelsea&quot;</td><td>0</td><td>0</td><td>0</td></tr><tr><td>&quot;Man United&quot;</td><td>1</td><td>3</td><td>4</td></tr><tr><td>&quot;Bournemouth&quot;</td><td>1</td><td>0</td><td>1</td></tr></tbody></table></div>"
      ],
      "text/plain": [
       "shape: (20, 4)\n",
       "┌─────────────┬──────────────────────┬──────────────────────┬─────────────────┐\n",
       "│ team        ┆ total home red cards ┆ total away red cards ┆ total red cards │\n",
       "│ ---         ┆ ---                  ┆ ---                  ┆ ---             │\n",
       "│ str         ┆ i64                  ┆ i64                  ┆ i64             │\n",
       "╞═════════════╪══════════════════════╪══════════════════════╪═════════════════╡\n",
       "│ Burnley     ┆ 0                    ┆ 1                    ┆ 1               │\n",
       "│ West Ham    ┆ 0                    ┆ 1                    ┆ 1               │\n",
       "│ Wolves      ┆ 0                    ┆ 1                    ┆ 1               │\n",
       "│ Watford     ┆ 3                    ┆ 1                    ┆ 4               │\n",
       "│ …           ┆ …                    ┆ …                    ┆ …               │\n",
       "│ Man City    ┆ 0                    ┆ 1                    ┆ 1               │\n",
       "│ Chelsea     ┆ 0                    ┆ 0                    ┆ 0               │\n",
       "│ Man United  ┆ 1                    ┆ 3                    ┆ 4               │\n",
       "│ Bournemouth ┆ 1                    ┆ 0                    ┆ 1               │\n",
       "└─────────────┴──────────────────────┴──────────────────────┴─────────────────┘"
      ]
     },
     "execution_count": 29,
     "metadata": {},
     "output_type": "execute_result"
    }
   ],
   "source": [
    "# Adding the total red cards each team has\n",
    "\n",
    "merge_red_card_data = merge_red_card_data.with_columns(\n",
    "    (pl.col(\"total home red cards\") + pl.col(\"total away red cards\")).alias(\"total red cards\")\n",
    ")\n",
    "\n",
    "merge_red_card_data"
   ]
  },
  {
   "cell_type": "code",
   "execution_count": 13,
   "id": "c3930de3",
   "metadata": {},
   "outputs": [
    {
     "data": {
      "text/html": [
       "<div><style>\n",
       ".dataframe > thead > tr,\n",
       ".dataframe > tbody > tr {\n",
       "  text-align: right;\n",
       "  white-space: pre-wrap;\n",
       "}\n",
       "</style>\n",
       "<small>shape: (20, 5)</small><table border=\"1\" class=\"dataframe\"><thead><tr><th>team</th><th>total home red cards</th><th>total away red cards</th><th>total red cards</th><th>num of wins</th></tr><tr><td>str</td><td>i64</td><td>i64</td><td>i64</td><td>u32</td></tr></thead><tbody><tr><td>&quot;Chelsea&quot;</td><td>0</td><td>0</td><td>0</td><td>21</td></tr><tr><td>&quot;Wolves&quot;</td><td>0</td><td>1</td><td>1</td><td>16</td></tr><tr><td>&quot;Man City&quot;</td><td>0</td><td>1</td><td>1</td><td>32</td></tr><tr><td>&quot;Burnley&quot;</td><td>0</td><td>1</td><td>1</td><td>11</td></tr><tr><td>&quot;Cardiff&quot;</td><td>0</td><td>1</td><td>1</td><td>10</td></tr><tr><td>&quot;Bournemouth&quot;</td><td>1</td><td>0</td><td>1</td><td>13</td></tr><tr><td>&quot;West Ham&quot;</td><td>0</td><td>1</td><td>1</td><td>15</td></tr><tr><td>&quot;Fulham&quot;</td><td>1</td><td>1</td><td>2</td><td>7</td></tr><tr><td>&quot;Newcastle&quot;</td><td>1</td><td>1</td><td>2</td><td>12</td></tr><tr><td>&quot;Arsenal&quot;</td><td>0</td><td>2</td><td>2</td><td>21</td></tr><tr><td>&quot;Crystal Palace…</td><td>1</td><td>1</td><td>2</td><td>14</td></tr><tr><td>&quot;Liverpool&quot;</td><td>1</td><td>1</td><td>2</td><td>30</td></tr><tr><td>&quot;Tottenham&quot;</td><td>0</td><td>3</td><td>3</td><td>23</td></tr><tr><td>&quot;Southampton&quot;</td><td>2</td><td>1</td><td>3</td><td>9</td></tr><tr><td>&quot;Everton&quot;</td><td>0</td><td>4</td><td>4</td><td>15</td></tr><tr><td>&quot;Man United&quot;</td><td>1</td><td>3</td><td>4</td><td>19</td></tr><tr><td>&quot;Watford&quot;</td><td>3</td><td>1</td><td>4</td><td>14</td></tr><tr><td>&quot;Brighton&quot;</td><td>2</td><td>2</td><td>4</td><td>9</td></tr><tr><td>&quot;Huddersfield&quot;</td><td>3</td><td>1</td><td>4</td><td>3</td></tr><tr><td>&quot;Leicester&quot;</td><td>2</td><td>3</td><td>5</td><td>15</td></tr></tbody></table></div>"
      ],
      "text/plain": [
       "shape: (20, 5)\n",
       "┌──────────────┬──────────────────────┬──────────────────────┬─────────────────┬─────────────┐\n",
       "│ team         ┆ total home red cards ┆ total away red cards ┆ total red cards ┆ num of wins │\n",
       "│ ---          ┆ ---                  ┆ ---                  ┆ ---             ┆ ---         │\n",
       "│ str          ┆ i64                  ┆ i64                  ┆ i64             ┆ u32         │\n",
       "╞══════════════╪══════════════════════╪══════════════════════╪═════════════════╪═════════════╡\n",
       "│ Chelsea      ┆ 0                    ┆ 0                    ┆ 0               ┆ 21          │\n",
       "│ Wolves       ┆ 0                    ┆ 1                    ┆ 1               ┆ 16          │\n",
       "│ Man City     ┆ 0                    ┆ 1                    ┆ 1               ┆ 32          │\n",
       "│ Burnley      ┆ 0                    ┆ 1                    ┆ 1               ┆ 11          │\n",
       "│ …            ┆ …                    ┆ …                    ┆ …               ┆ …           │\n",
       "│ Watford      ┆ 3                    ┆ 1                    ┆ 4               ┆ 14          │\n",
       "│ Brighton     ┆ 2                    ┆ 2                    ┆ 4               ┆ 9           │\n",
       "│ Huddersfield ┆ 3                    ┆ 1                    ┆ 4               ┆ 3           │\n",
       "│ Leicester    ┆ 2                    ┆ 3                    ┆ 5               ┆ 15          │\n",
       "└──────────────┴──────────────────────┴──────────────────────┴─────────────────┴─────────────┘"
      ]
     },
     "execution_count": 13,
     "metadata": {},
     "output_type": "execute_result"
    }
   ],
   "source": [
    "# join merge_red_card_data and num_of_wins_data\n",
    "merge_full_data = merge_red_card_data.join(num_of_wins_data, left_on = \"team\", right_on = \"team\", how = \"outer\")\n",
    "merge_full_data= merge_full_data.drop_nulls()\n",
    "\n",
    "merge_full_data = merge_full_data.sort(\"total red cards\", descending = False)\n",
    "merge_full_data\n",
    "\n"
   ]
  },
  {
   "cell_type": "code",
   "execution_count": 28,
   "id": "e95bcbbb",
   "metadata": {},
   "outputs": [
    {
     "data": {
      "text/html": [
       "<div><style>\n",
       ".dataframe > thead > tr,\n",
       ".dataframe > tbody > tr {\n",
       "  text-align: right;\n",
       "  white-space: pre-wrap;\n",
       "}\n",
       "</style>\n",
       "<small>shape: (20, 3)</small><table border=\"1\" class=\"dataframe\"><thead><tr><th>team</th><th>total red cards</th><th>num of wins</th></tr><tr><td>str</td><td>i64</td><td>u32</td></tr></thead><tbody><tr><td>&quot;Chelsea&quot;</td><td>0</td><td>21</td></tr><tr><td>&quot;Wolves&quot;</td><td>1</td><td>16</td></tr><tr><td>&quot;Man City&quot;</td><td>1</td><td>32</td></tr><tr><td>&quot;Burnley&quot;</td><td>1</td><td>11</td></tr><tr><td>&quot;Cardiff&quot;</td><td>1</td><td>10</td></tr><tr><td>&quot;Bournemouth&quot;</td><td>1</td><td>13</td></tr><tr><td>&quot;West Ham&quot;</td><td>1</td><td>15</td></tr><tr><td>&quot;Fulham&quot;</td><td>2</td><td>7</td></tr><tr><td>&quot;Newcastle&quot;</td><td>2</td><td>12</td></tr><tr><td>&quot;Arsenal&quot;</td><td>2</td><td>21</td></tr><tr><td>&quot;Crystal Palace…</td><td>2</td><td>14</td></tr><tr><td>&quot;Liverpool&quot;</td><td>2</td><td>30</td></tr><tr><td>&quot;Tottenham&quot;</td><td>3</td><td>23</td></tr><tr><td>&quot;Southampton&quot;</td><td>3</td><td>9</td></tr><tr><td>&quot;Everton&quot;</td><td>4</td><td>15</td></tr><tr><td>&quot;Man United&quot;</td><td>4</td><td>19</td></tr><tr><td>&quot;Watford&quot;</td><td>4</td><td>14</td></tr><tr><td>&quot;Brighton&quot;</td><td>4</td><td>9</td></tr><tr><td>&quot;Huddersfield&quot;</td><td>4</td><td>3</td></tr><tr><td>&quot;Leicester&quot;</td><td>5</td><td>15</td></tr></tbody></table></div>"
      ],
      "text/plain": [
       "shape: (20, 3)\n",
       "┌──────────────┬─────────────────┬─────────────┐\n",
       "│ team         ┆ total red cards ┆ num of wins │\n",
       "│ ---          ┆ ---             ┆ ---         │\n",
       "│ str          ┆ i64             ┆ u32         │\n",
       "╞══════════════╪═════════════════╪═════════════╡\n",
       "│ Chelsea      ┆ 0               ┆ 21          │\n",
       "│ Wolves       ┆ 1               ┆ 16          │\n",
       "│ Man City     ┆ 1               ┆ 32          │\n",
       "│ Burnley      ┆ 1               ┆ 11          │\n",
       "│ …            ┆ …               ┆ …           │\n",
       "│ Watford      ┆ 4               ┆ 14          │\n",
       "│ Brighton     ┆ 4               ┆ 9           │\n",
       "│ Huddersfield ┆ 4               ┆ 3           │\n",
       "│ Leicester    ┆ 5               ┆ 15          │\n",
       "└──────────────┴─────────────────┴─────────────┘"
      ]
     },
     "execution_count": 28,
     "metadata": {},
     "output_type": "execute_result"
    }
   ],
   "source": [
    "# Dropping unwanted columns\n",
    "merge_full_data = merge_full_data.drop([\"total away red cards\", \"total home red cards\"])\n",
    "merge_full_data"
   ]
  },
  {
   "cell_type": "code",
   "execution_count": 15,
   "id": "82001e79",
   "metadata": {},
   "outputs": [
    {
     "data": {
      "text/html": [
       "<div><style>\n",
       ".dataframe > thead > tr,\n",
       ".dataframe > tbody > tr {\n",
       "  text-align: right;\n",
       "  white-space: pre-wrap;\n",
       "}\n",
       "</style>\n",
       "<small>shape: (1, 1)</small><table border=\"1\" class=\"dataframe\"><thead><tr><th>corr coefficient</th></tr><tr><td>f64</td></tr></thead><tbody><tr><td>-0.255556</td></tr></tbody></table></div>"
      ],
      "text/plain": [
       "shape: (1, 1)\n",
       "┌──────────────────┐\n",
       "│ corr coefficient │\n",
       "│ ---              │\n",
       "│ f64              │\n",
       "╞══════════════════╡\n",
       "│ -0.255556        │\n",
       "└──────────────────┘"
      ]
     },
     "execution_count": 15,
     "metadata": {},
     "output_type": "execute_result"
    }
   ],
   "source": [
    "# calculate correlation coefficient to see if there's any correlation between red cards and num of wins\n",
    "corr_coefficient = merge_full_data.select(pl.corr(\"total red cards\", \"num of wins\"))\n",
    "corr_coefficient = corr_coefficient.rename({\"total red cards\": \"corr coefficient\"})\n",
    "corr_coefficient\n",
    "# negative correlation coefficient shows no positive relationship between red cards and num of wins.\n",
    "# teams that receive a lot of red cards also win a lot of games\n",
    "# correlation coefficient is weak which suggests there is no strong relationship between red cards and num of wins \n",
    "# other factors e.g. the teams ability may be more important than red cards received."
   ]
  },
  {
   "cell_type": "code",
   "execution_count": 27,
   "id": "b47c3517",
   "metadata": {},
   "outputs": [
    {
     "data": {
      "text/html": [
       "<div><style>\n",
       ".dataframe > thead > tr,\n",
       ".dataframe > tbody > tr {\n",
       "  text-align: right;\n",
       "  white-space: pre-wrap;\n",
       "}\n",
       "</style>\n",
       "<small>shape: (380, 6)</small><table border=\"1\" class=\"dataframe\"><thead><tr><th>home team</th><th>away team</th><th>half time result</th><th>full time result</th><th>winner</th><th>count</th></tr><tr><td>str</td><td>str</td><td>str</td><td>str</td><td>str</td><td>i32</td></tr></thead><tbody><tr><td>&quot;Man United&quot;</td><td>&quot;Leicester&quot;</td><td>&quot;H&quot;</td><td>&quot;H&quot;</td><td>&quot;Man United&quot;</td><td>1</td></tr><tr><td>&quot;Bournemouth&quot;</td><td>&quot;Cardiff&quot;</td><td>&quot;H&quot;</td><td>&quot;H&quot;</td><td>&quot;Bournemouth&quot;</td><td>1</td></tr><tr><td>&quot;Fulham&quot;</td><td>&quot;Crystal Palace…</td><td>&quot;A&quot;</td><td>&quot;A&quot;</td><td>&quot;Crystal Palace…</td><td>1</td></tr><tr><td>&quot;Huddersfield&quot;</td><td>&quot;Chelsea&quot;</td><td>&quot;A&quot;</td><td>&quot;A&quot;</td><td>&quot;Chelsea&quot;</td><td>1</td></tr><tr><td>&quot;Newcastle&quot;</td><td>&quot;Tottenham&quot;</td><td>&quot;A&quot;</td><td>&quot;A&quot;</td><td>&quot;Tottenham&quot;</td><td>1</td></tr><tr><td>&quot;Watford&quot;</td><td>&quot;Brighton&quot;</td><td>&quot;H&quot;</td><td>&quot;H&quot;</td><td>&quot;Watford&quot;</td><td>1</td></tr><tr><td>&quot;Wolves&quot;</td><td>&quot;Everton&quot;</td><td>&quot;D&quot;</td><td>&quot;D&quot;</td><td>null</td><td>null</td></tr><tr><td>&quot;Arsenal&quot;</td><td>&quot;Man City&quot;</td><td>&quot;A&quot;</td><td>&quot;A&quot;</td><td>&quot;Man City&quot;</td><td>1</td></tr><tr><td>&quot;Liverpool&quot;</td><td>&quot;West Ham&quot;</td><td>&quot;H&quot;</td><td>&quot;H&quot;</td><td>&quot;Liverpool&quot;</td><td>1</td></tr><tr><td>&quot;Southampton&quot;</td><td>&quot;Burnley&quot;</td><td>&quot;D&quot;</td><td>&quot;D&quot;</td><td>null</td><td>null</td></tr><tr><td>&quot;Cardiff&quot;</td><td>&quot;Newcastle&quot;</td><td>&quot;D&quot;</td><td>&quot;D&quot;</td><td>null</td><td>null</td></tr><tr><td>&quot;Chelsea&quot;</td><td>&quot;Arsenal&quot;</td><td>&quot;D&quot;</td><td>&quot;H&quot;</td><td>&quot;Chelsea&quot;</td><td>1</td></tr><tr><td>&hellip;</td><td>&hellip;</td><td>&hellip;</td><td>&hellip;</td><td>&hellip;</td><td>&hellip;</td></tr><tr><td>&quot;Huddersfield&quot;</td><td>&quot;Man United&quot;</td><td>&quot;A&quot;</td><td>&quot;D&quot;</td><td>null</td><td>null</td></tr><tr><td>&quot;Man City&quot;</td><td>&quot;Leicester&quot;</td><td>&quot;D&quot;</td><td>&quot;H&quot;</td><td>&quot;Man City&quot;</td><td>1</td></tr><tr><td>&quot;Brighton&quot;</td><td>&quot;Man City&quot;</td><td>&quot;A&quot;</td><td>&quot;A&quot;</td><td>&quot;Man City&quot;</td><td>1</td></tr><tr><td>&quot;Burnley&quot;</td><td>&quot;Arsenal&quot;</td><td>&quot;D&quot;</td><td>&quot;A&quot;</td><td>&quot;Arsenal&quot;</td><td>1</td></tr><tr><td>&quot;Crystal Palace…</td><td>&quot;Bournemouth&quot;</td><td>&quot;H&quot;</td><td>&quot;H&quot;</td><td>&quot;Crystal Palace…</td><td>1</td></tr><tr><td>&quot;Fulham&quot;</td><td>&quot;Newcastle&quot;</td><td>&quot;A&quot;</td><td>&quot;A&quot;</td><td>&quot;Newcastle&quot;</td><td>1</td></tr><tr><td>&quot;Leicester&quot;</td><td>&quot;Chelsea&quot;</td><td>&quot;D&quot;</td><td>&quot;D&quot;</td><td>null</td><td>null</td></tr><tr><td>&quot;Liverpool&quot;</td><td>&quot;Wolves&quot;</td><td>&quot;H&quot;</td><td>&quot;H&quot;</td><td>&quot;Liverpool&quot;</td><td>1</td></tr><tr><td>&quot;Man United&quot;</td><td>&quot;Cardiff&quot;</td><td>&quot;A&quot;</td><td>&quot;A&quot;</td><td>&quot;Cardiff&quot;</td><td>1</td></tr><tr><td>&quot;Southampton&quot;</td><td>&quot;Huddersfield&quot;</td><td>&quot;H&quot;</td><td>&quot;D&quot;</td><td>null</td><td>null</td></tr><tr><td>&quot;Tottenham&quot;</td><td>&quot;Everton&quot;</td><td>&quot;H&quot;</td><td>&quot;D&quot;</td><td>null</td><td>null</td></tr><tr><td>&quot;Watford&quot;</td><td>&quot;West Ham&quot;</td><td>&quot;A&quot;</td><td>&quot;A&quot;</td><td>&quot;West Ham&quot;</td><td>1</td></tr></tbody></table></div>"
      ],
      "text/plain": [
       "shape: (380, 6)\n",
       "┌──────────────┬────────────────┬──────────────────┬──────────────────┬────────────────┬───────┐\n",
       "│ home team    ┆ away team      ┆ half time result ┆ full time result ┆ winner         ┆ count │\n",
       "│ ---          ┆ ---            ┆ ---              ┆ ---              ┆ ---            ┆ ---   │\n",
       "│ str          ┆ str            ┆ str              ┆ str              ┆ str            ┆ i32   │\n",
       "╞══════════════╪════════════════╪══════════════════╪══════════════════╪════════════════╪═══════╡\n",
       "│ Man United   ┆ Leicester      ┆ H                ┆ H                ┆ Man United     ┆ 1     │\n",
       "│ Bournemouth  ┆ Cardiff        ┆ H                ┆ H                ┆ Bournemouth    ┆ 1     │\n",
       "│ Fulham       ┆ Crystal Palace ┆ A                ┆ A                ┆ Crystal Palace ┆ 1     │\n",
       "│ Huddersfield ┆ Chelsea        ┆ A                ┆ A                ┆ Chelsea        ┆ 1     │\n",
       "│ …            ┆ …              ┆ …                ┆ …                ┆ …              ┆ …     │\n",
       "│ Man United   ┆ Cardiff        ┆ A                ┆ A                ┆ Cardiff        ┆ 1     │\n",
       "│ Southampton  ┆ Huddersfield   ┆ H                ┆ D                ┆ null           ┆ null  │\n",
       "│ Tottenham    ┆ Everton        ┆ H                ┆ D                ┆ null           ┆ null  │\n",
       "│ Watford      ┆ West Ham       ┆ A                ┆ A                ┆ West Ham       ┆ 1     │\n",
       "└──────────────┴────────────────┴──────────────────┴──────────────────┴────────────────┴───────┘"
      ]
     },
     "execution_count": 27,
     "metadata": {},
     "output_type": "execute_result"
    }
   ],
   "source": [
    "# predict the outcome of a game by the results at halftime\n",
    "# Selecting columns I want to work with\n",
    "df = df.drop([\"full time home goals\", \"full time away goals\"])\n",
    "ht_data = df.select(\n",
    "    pl.col(\"home team\"),\n",
    "    pl.col(\"away team\"),\n",
    "    pl.col(\"half time result\"),\n",
    "    pl.col(\"full time result\"),\n",
    "    pl.col(\"winner\"),\n",
    "    pl.col(\"count\")\n",
    "    \n",
    ")\n",
    "ht_data"
   ]
  },
  {
   "cell_type": "code",
   "execution_count": 26,
   "id": "3c6d45ab",
   "metadata": {},
   "outputs": [
    {
     "data": {
      "text/html": [
       "<div><style>\n",
       ".dataframe > thead > tr,\n",
       ".dataframe > tbody > tr {\n",
       "  text-align: right;\n",
       "  white-space: pre-wrap;\n",
       "}\n",
       "</style>\n",
       "<small>shape: (380, 9)</small><table border=\"1\" class=\"dataframe\"><thead><tr><th>home team</th><th>away team</th><th>half time result</th><th>full time result</th><th>winner</th><th>count</th><th>ht lead won</th><th>total games played</th><th>Percent of games won with lead at HT</th></tr><tr><td>str</td><td>str</td><td>str</td><td>str</td><td>str</td><td>i32</td><td>i32</td><td>u32</td><td>f64</td></tr></thead><tbody><tr><td>&quot;Man United&quot;</td><td>&quot;Leicester&quot;</td><td>&quot;H&quot;</td><td>&quot;H&quot;</td><td>&quot;Man United&quot;</td><td>1</td><td>1</td><td>380</td><td>60.0</td></tr><tr><td>&quot;Bournemouth&quot;</td><td>&quot;Cardiff&quot;</td><td>&quot;H&quot;</td><td>&quot;H&quot;</td><td>&quot;Bournemouth&quot;</td><td>1</td><td>1</td><td>380</td><td>60.0</td></tr><tr><td>&quot;Fulham&quot;</td><td>&quot;Crystal Palace…</td><td>&quot;A&quot;</td><td>&quot;A&quot;</td><td>&quot;Crystal Palace…</td><td>1</td><td>1</td><td>380</td><td>60.0</td></tr><tr><td>&quot;Huddersfield&quot;</td><td>&quot;Chelsea&quot;</td><td>&quot;A&quot;</td><td>&quot;A&quot;</td><td>&quot;Chelsea&quot;</td><td>1</td><td>1</td><td>380</td><td>60.0</td></tr><tr><td>&quot;Newcastle&quot;</td><td>&quot;Tottenham&quot;</td><td>&quot;A&quot;</td><td>&quot;A&quot;</td><td>&quot;Tottenham&quot;</td><td>1</td><td>1</td><td>380</td><td>60.0</td></tr><tr><td>&quot;Watford&quot;</td><td>&quot;Brighton&quot;</td><td>&quot;H&quot;</td><td>&quot;H&quot;</td><td>&quot;Watford&quot;</td><td>1</td><td>1</td><td>380</td><td>60.0</td></tr><tr><td>&quot;Wolves&quot;</td><td>&quot;Everton&quot;</td><td>&quot;D&quot;</td><td>&quot;D&quot;</td><td>null</td><td>null</td><td>1</td><td>380</td><td>60.0</td></tr><tr><td>&quot;Arsenal&quot;</td><td>&quot;Man City&quot;</td><td>&quot;A&quot;</td><td>&quot;A&quot;</td><td>&quot;Man City&quot;</td><td>1</td><td>1</td><td>380</td><td>60.0</td></tr><tr><td>&quot;Liverpool&quot;</td><td>&quot;West Ham&quot;</td><td>&quot;H&quot;</td><td>&quot;H&quot;</td><td>&quot;Liverpool&quot;</td><td>1</td><td>1</td><td>380</td><td>60.0</td></tr><tr><td>&quot;Southampton&quot;</td><td>&quot;Burnley&quot;</td><td>&quot;D&quot;</td><td>&quot;D&quot;</td><td>null</td><td>null</td><td>1</td><td>380</td><td>60.0</td></tr><tr><td>&quot;Cardiff&quot;</td><td>&quot;Newcastle&quot;</td><td>&quot;D&quot;</td><td>&quot;D&quot;</td><td>null</td><td>null</td><td>1</td><td>380</td><td>60.0</td></tr><tr><td>&quot;Chelsea&quot;</td><td>&quot;Arsenal&quot;</td><td>&quot;D&quot;</td><td>&quot;H&quot;</td><td>&quot;Chelsea&quot;</td><td>1</td><td>0</td><td>380</td><td>60.0</td></tr><tr><td>&hellip;</td><td>&hellip;</td><td>&hellip;</td><td>&hellip;</td><td>&hellip;</td><td>&hellip;</td><td>&hellip;</td><td>&hellip;</td><td>&hellip;</td></tr><tr><td>&quot;Huddersfield&quot;</td><td>&quot;Man United&quot;</td><td>&quot;A&quot;</td><td>&quot;D&quot;</td><td>null</td><td>null</td><td>0</td><td>380</td><td>60.0</td></tr><tr><td>&quot;Man City&quot;</td><td>&quot;Leicester&quot;</td><td>&quot;D&quot;</td><td>&quot;H&quot;</td><td>&quot;Man City&quot;</td><td>1</td><td>0</td><td>380</td><td>60.0</td></tr><tr><td>&quot;Brighton&quot;</td><td>&quot;Man City&quot;</td><td>&quot;A&quot;</td><td>&quot;A&quot;</td><td>&quot;Man City&quot;</td><td>1</td><td>1</td><td>380</td><td>60.0</td></tr><tr><td>&quot;Burnley&quot;</td><td>&quot;Arsenal&quot;</td><td>&quot;D&quot;</td><td>&quot;A&quot;</td><td>&quot;Arsenal&quot;</td><td>1</td><td>0</td><td>380</td><td>60.0</td></tr><tr><td>&quot;Crystal Palace…</td><td>&quot;Bournemouth&quot;</td><td>&quot;H&quot;</td><td>&quot;H&quot;</td><td>&quot;Crystal Palace…</td><td>1</td><td>1</td><td>380</td><td>60.0</td></tr><tr><td>&quot;Fulham&quot;</td><td>&quot;Newcastle&quot;</td><td>&quot;A&quot;</td><td>&quot;A&quot;</td><td>&quot;Newcastle&quot;</td><td>1</td><td>1</td><td>380</td><td>60.0</td></tr><tr><td>&quot;Leicester&quot;</td><td>&quot;Chelsea&quot;</td><td>&quot;D&quot;</td><td>&quot;D&quot;</td><td>null</td><td>null</td><td>1</td><td>380</td><td>60.0</td></tr><tr><td>&quot;Liverpool&quot;</td><td>&quot;Wolves&quot;</td><td>&quot;H&quot;</td><td>&quot;H&quot;</td><td>&quot;Liverpool&quot;</td><td>1</td><td>1</td><td>380</td><td>60.0</td></tr><tr><td>&quot;Man United&quot;</td><td>&quot;Cardiff&quot;</td><td>&quot;A&quot;</td><td>&quot;A&quot;</td><td>&quot;Cardiff&quot;</td><td>1</td><td>1</td><td>380</td><td>60.0</td></tr><tr><td>&quot;Southampton&quot;</td><td>&quot;Huddersfield&quot;</td><td>&quot;H&quot;</td><td>&quot;D&quot;</td><td>null</td><td>null</td><td>0</td><td>380</td><td>60.0</td></tr><tr><td>&quot;Tottenham&quot;</td><td>&quot;Everton&quot;</td><td>&quot;H&quot;</td><td>&quot;D&quot;</td><td>null</td><td>null</td><td>0</td><td>380</td><td>60.0</td></tr><tr><td>&quot;Watford&quot;</td><td>&quot;West Ham&quot;</td><td>&quot;A&quot;</td><td>&quot;A&quot;</td><td>&quot;West Ham&quot;</td><td>1</td><td>1</td><td>380</td><td>60.0</td></tr></tbody></table></div>"
      ],
      "text/plain": [
       "shape: (380, 9)\n",
       "┌──────────────┬────────────────┬───────────┬───────────┬───┬───────┬─────────────┬─────────────┬──────────────────────┐\n",
       "│ home team    ┆ away team      ┆ half time ┆ full time ┆ … ┆ count ┆ ht lead won ┆ total games ┆ Percent of games won │\n",
       "│ ---          ┆ ---            ┆ result    ┆ result    ┆   ┆ ---   ┆ ---         ┆ played      ┆ with lead a…         │\n",
       "│ str          ┆ str            ┆ ---       ┆ ---       ┆   ┆ i32   ┆ i32         ┆ ---         ┆ ---                  │\n",
       "│              ┆                ┆ str       ┆ str       ┆   ┆       ┆             ┆ u32         ┆ f64                  │\n",
       "╞══════════════╪════════════════╪═══════════╪═══════════╪═══╪═══════╪═════════════╪═════════════╪══════════════════════╡\n",
       "│ Man United   ┆ Leicester      ┆ H         ┆ H         ┆ … ┆ 1     ┆ 1           ┆ 380         ┆ 60.0                 │\n",
       "│ Bournemouth  ┆ Cardiff        ┆ H         ┆ H         ┆ … ┆ 1     ┆ 1           ┆ 380         ┆ 60.0                 │\n",
       "│ Fulham       ┆ Crystal Palace ┆ A         ┆ A         ┆ … ┆ 1     ┆ 1           ┆ 380         ┆ 60.0                 │\n",
       "│ Huddersfield ┆ Chelsea        ┆ A         ┆ A         ┆ … ┆ 1     ┆ 1           ┆ 380         ┆ 60.0                 │\n",
       "│ …            ┆ …              ┆ …         ┆ …         ┆ … ┆ …     ┆ …           ┆ …           ┆ …                    │\n",
       "│ Man United   ┆ Cardiff        ┆ A         ┆ A         ┆ … ┆ 1     ┆ 1           ┆ 380         ┆ 60.0                 │\n",
       "│ Southampton  ┆ Huddersfield   ┆ H         ┆ D         ┆ … ┆ null  ┆ 0           ┆ 380         ┆ 60.0                 │\n",
       "│ Tottenham    ┆ Everton        ┆ H         ┆ D         ┆ … ┆ null  ┆ 0           ┆ 380         ┆ 60.0                 │\n",
       "│ Watford      ┆ West Ham       ┆ A         ┆ A         ┆ … ┆ 1     ┆ 1           ┆ 380         ┆ 60.0                 │\n",
       "└──────────────┴────────────────┴───────────┴───────────┴───┴───────┴─────────────┴─────────────┴──────────────────────┘"
      ]
     },
     "execution_count": 26,
     "metadata": {},
     "output_type": "execute_result"
    }
   ],
   "source": [
    "# Creating a new column - If the half time result = full time result then it shows a team won whilst having the lead at HT\n",
    "\n",
    "ht_data = ht_data.with_columns(\n",
    "    pl.when(pl.col(\"half time result\") == pl.col(\"full time result\")).then(1)\n",
    "    .otherwise(0)\n",
    "    .alias(\"ht lead won\")\n",
    ")\n",
    "\n",
    "ht_data\n",
    "\n"
   ]
  },
  {
   "cell_type": "code",
   "execution_count": 18,
   "id": "f1f2da0d",
   "metadata": {},
   "outputs": [
    {
     "data": {
      "text/html": [
       "<div><style>\n",
       ".dataframe > thead > tr,\n",
       ".dataframe > tbody > tr {\n",
       "  text-align: right;\n",
       "  white-space: pre-wrap;\n",
       "}\n",
       "</style>\n",
       "<small>shape: (380, 8)</small><table border=\"1\" class=\"dataframe\"><thead><tr><th>home team</th><th>away team</th><th>half time result</th><th>full time result</th><th>winner</th><th>count</th><th>ht lead won</th><th>total games played</th></tr><tr><td>str</td><td>str</td><td>str</td><td>str</td><td>str</td><td>i32</td><td>i32</td><td>u32</td></tr></thead><tbody><tr><td>&quot;Man United&quot;</td><td>&quot;Leicester&quot;</td><td>&quot;H&quot;</td><td>&quot;H&quot;</td><td>&quot;Man United&quot;</td><td>1</td><td>228</td><td>380</td></tr><tr><td>&quot;Bournemouth&quot;</td><td>&quot;Cardiff&quot;</td><td>&quot;H&quot;</td><td>&quot;H&quot;</td><td>&quot;Bournemouth&quot;</td><td>1</td><td>228</td><td>380</td></tr><tr><td>&quot;Fulham&quot;</td><td>&quot;Crystal Palace…</td><td>&quot;A&quot;</td><td>&quot;A&quot;</td><td>&quot;Crystal Palace…</td><td>1</td><td>228</td><td>380</td></tr><tr><td>&quot;Huddersfield&quot;</td><td>&quot;Chelsea&quot;</td><td>&quot;A&quot;</td><td>&quot;A&quot;</td><td>&quot;Chelsea&quot;</td><td>1</td><td>228</td><td>380</td></tr><tr><td>&quot;Newcastle&quot;</td><td>&quot;Tottenham&quot;</td><td>&quot;A&quot;</td><td>&quot;A&quot;</td><td>&quot;Tottenham&quot;</td><td>1</td><td>228</td><td>380</td></tr><tr><td>&quot;Watford&quot;</td><td>&quot;Brighton&quot;</td><td>&quot;H&quot;</td><td>&quot;H&quot;</td><td>&quot;Watford&quot;</td><td>1</td><td>228</td><td>380</td></tr><tr><td>&quot;Wolves&quot;</td><td>&quot;Everton&quot;</td><td>&quot;D&quot;</td><td>&quot;D&quot;</td><td>null</td><td>null</td><td>228</td><td>380</td></tr><tr><td>&quot;Arsenal&quot;</td><td>&quot;Man City&quot;</td><td>&quot;A&quot;</td><td>&quot;A&quot;</td><td>&quot;Man City&quot;</td><td>1</td><td>228</td><td>380</td></tr><tr><td>&quot;Liverpool&quot;</td><td>&quot;West Ham&quot;</td><td>&quot;H&quot;</td><td>&quot;H&quot;</td><td>&quot;Liverpool&quot;</td><td>1</td><td>228</td><td>380</td></tr><tr><td>&quot;Southampton&quot;</td><td>&quot;Burnley&quot;</td><td>&quot;D&quot;</td><td>&quot;D&quot;</td><td>null</td><td>null</td><td>228</td><td>380</td></tr><tr><td>&quot;Cardiff&quot;</td><td>&quot;Newcastle&quot;</td><td>&quot;D&quot;</td><td>&quot;D&quot;</td><td>null</td><td>null</td><td>228</td><td>380</td></tr><tr><td>&quot;Chelsea&quot;</td><td>&quot;Arsenal&quot;</td><td>&quot;D&quot;</td><td>&quot;H&quot;</td><td>&quot;Chelsea&quot;</td><td>1</td><td>228</td><td>380</td></tr><tr><td>&hellip;</td><td>&hellip;</td><td>&hellip;</td><td>&hellip;</td><td>&hellip;</td><td>&hellip;</td><td>&hellip;</td><td>&hellip;</td></tr><tr><td>&quot;Huddersfield&quot;</td><td>&quot;Man United&quot;</td><td>&quot;A&quot;</td><td>&quot;D&quot;</td><td>null</td><td>null</td><td>228</td><td>380</td></tr><tr><td>&quot;Man City&quot;</td><td>&quot;Leicester&quot;</td><td>&quot;D&quot;</td><td>&quot;H&quot;</td><td>&quot;Man City&quot;</td><td>1</td><td>228</td><td>380</td></tr><tr><td>&quot;Brighton&quot;</td><td>&quot;Man City&quot;</td><td>&quot;A&quot;</td><td>&quot;A&quot;</td><td>&quot;Man City&quot;</td><td>1</td><td>228</td><td>380</td></tr><tr><td>&quot;Burnley&quot;</td><td>&quot;Arsenal&quot;</td><td>&quot;D&quot;</td><td>&quot;A&quot;</td><td>&quot;Arsenal&quot;</td><td>1</td><td>228</td><td>380</td></tr><tr><td>&quot;Crystal Palace…</td><td>&quot;Bournemouth&quot;</td><td>&quot;H&quot;</td><td>&quot;H&quot;</td><td>&quot;Crystal Palace…</td><td>1</td><td>228</td><td>380</td></tr><tr><td>&quot;Fulham&quot;</td><td>&quot;Newcastle&quot;</td><td>&quot;A&quot;</td><td>&quot;A&quot;</td><td>&quot;Newcastle&quot;</td><td>1</td><td>228</td><td>380</td></tr><tr><td>&quot;Leicester&quot;</td><td>&quot;Chelsea&quot;</td><td>&quot;D&quot;</td><td>&quot;D&quot;</td><td>null</td><td>null</td><td>228</td><td>380</td></tr><tr><td>&quot;Liverpool&quot;</td><td>&quot;Wolves&quot;</td><td>&quot;H&quot;</td><td>&quot;H&quot;</td><td>&quot;Liverpool&quot;</td><td>1</td><td>228</td><td>380</td></tr><tr><td>&quot;Man United&quot;</td><td>&quot;Cardiff&quot;</td><td>&quot;A&quot;</td><td>&quot;A&quot;</td><td>&quot;Cardiff&quot;</td><td>1</td><td>228</td><td>380</td></tr><tr><td>&quot;Southampton&quot;</td><td>&quot;Huddersfield&quot;</td><td>&quot;H&quot;</td><td>&quot;D&quot;</td><td>null</td><td>null</td><td>228</td><td>380</td></tr><tr><td>&quot;Tottenham&quot;</td><td>&quot;Everton&quot;</td><td>&quot;H&quot;</td><td>&quot;D&quot;</td><td>null</td><td>null</td><td>228</td><td>380</td></tr><tr><td>&quot;Watford&quot;</td><td>&quot;West Ham&quot;</td><td>&quot;A&quot;</td><td>&quot;A&quot;</td><td>&quot;West Ham&quot;</td><td>1</td><td>228</td><td>380</td></tr></tbody></table></div>"
      ],
      "text/plain": [
       "shape: (380, 8)\n",
       "┌──────────────┬────────────────┬───────────┬───────────┬────────────────┬───────┬─────────────┬─────────────┐\n",
       "│ home team    ┆ away team      ┆ half time ┆ full time ┆ winner         ┆ count ┆ ht lead won ┆ total games │\n",
       "│ ---          ┆ ---            ┆ result    ┆ result    ┆ ---            ┆ ---   ┆ ---         ┆ played      │\n",
       "│ str          ┆ str            ┆ ---       ┆ ---       ┆ str            ┆ i32   ┆ i32         ┆ ---         │\n",
       "│              ┆                ┆ str       ┆ str       ┆                ┆       ┆             ┆ u32         │\n",
       "╞══════════════╪════════════════╪═══════════╪═══════════╪════════════════╪═══════╪═════════════╪═════════════╡\n",
       "│ Man United   ┆ Leicester      ┆ H         ┆ H         ┆ Man United     ┆ 1     ┆ 228         ┆ 380         │\n",
       "│ Bournemouth  ┆ Cardiff        ┆ H         ┆ H         ┆ Bournemouth    ┆ 1     ┆ 228         ┆ 380         │\n",
       "│ Fulham       ┆ Crystal Palace ┆ A         ┆ A         ┆ Crystal Palace ┆ 1     ┆ 228         ┆ 380         │\n",
       "│ Huddersfield ┆ Chelsea        ┆ A         ┆ A         ┆ Chelsea        ┆ 1     ┆ 228         ┆ 380         │\n",
       "│ …            ┆ …              ┆ …         ┆ …         ┆ …              ┆ …     ┆ …           ┆ …           │\n",
       "│ Man United   ┆ Cardiff        ┆ A         ┆ A         ┆ Cardiff        ┆ 1     ┆ 228         ┆ 380         │\n",
       "│ Southampton  ┆ Huddersfield   ┆ H         ┆ D         ┆ null           ┆ null  ┆ 228         ┆ 380         │\n",
       "│ Tottenham    ┆ Everton        ┆ H         ┆ D         ┆ null           ┆ null  ┆ 228         ┆ 380         │\n",
       "│ Watford      ┆ West Ham       ┆ A         ┆ A         ┆ West Ham       ┆ 1     ┆ 228         ┆ 380         │\n",
       "└──────────────┴────────────────┴───────────┴───────────┴────────────────┴───────┴─────────────┴─────────────┘"
      ]
     },
     "execution_count": 18,
     "metadata": {},
     "output_type": "execute_result"
    }
   ],
   "source": [
    "# need to find total games played and then divide ht results by total games played\n",
    "ht_data = ht_data.with_columns(\n",
    "    pl.col(\"full time result\").count().alias(\"total games played\"),\n",
    "    pl.col(\"ht lead won\").sum()\n",
    "\n",
    ")\n",
    "ht_data\n",
    "\n",
    "# this shows that of the 380 games played, 228 games were won when the team had the lead at HT"
   ]
  },
  {
   "cell_type": "code",
   "execution_count": 25,
   "id": "b74a8eb6",
   "metadata": {},
   "outputs": [
    {
     "data": {
      "text/html": [
       "<div><style>\n",
       ".dataframe > thead > tr,\n",
       ".dataframe > tbody > tr {\n",
       "  text-align: right;\n",
       "  white-space: pre-wrap;\n",
       "}\n",
       "</style>\n",
       "<small>shape: (380, 9)</small><table border=\"1\" class=\"dataframe\"><thead><tr><th>home team</th><th>away team</th><th>half time result</th><th>full time result</th><th>winner</th><th>count</th><th>ht lead won</th><th>total games played</th><th>Percent of games won with lead at HT</th></tr><tr><td>str</td><td>str</td><td>str</td><td>str</td><td>str</td><td>i32</td><td>i32</td><td>u32</td><td>f64</td></tr></thead><tbody><tr><td>&quot;Man United&quot;</td><td>&quot;Leicester&quot;</td><td>&quot;H&quot;</td><td>&quot;H&quot;</td><td>&quot;Man United&quot;</td><td>1</td><td>228</td><td>380</td><td>60.0</td></tr><tr><td>&quot;Bournemouth&quot;</td><td>&quot;Cardiff&quot;</td><td>&quot;H&quot;</td><td>&quot;H&quot;</td><td>&quot;Bournemouth&quot;</td><td>1</td><td>228</td><td>380</td><td>60.0</td></tr><tr><td>&quot;Fulham&quot;</td><td>&quot;Crystal Palace…</td><td>&quot;A&quot;</td><td>&quot;A&quot;</td><td>&quot;Crystal Palace…</td><td>1</td><td>228</td><td>380</td><td>60.0</td></tr><tr><td>&quot;Huddersfield&quot;</td><td>&quot;Chelsea&quot;</td><td>&quot;A&quot;</td><td>&quot;A&quot;</td><td>&quot;Chelsea&quot;</td><td>1</td><td>228</td><td>380</td><td>60.0</td></tr><tr><td>&quot;Newcastle&quot;</td><td>&quot;Tottenham&quot;</td><td>&quot;A&quot;</td><td>&quot;A&quot;</td><td>&quot;Tottenham&quot;</td><td>1</td><td>228</td><td>380</td><td>60.0</td></tr><tr><td>&quot;Watford&quot;</td><td>&quot;Brighton&quot;</td><td>&quot;H&quot;</td><td>&quot;H&quot;</td><td>&quot;Watford&quot;</td><td>1</td><td>228</td><td>380</td><td>60.0</td></tr><tr><td>&quot;Wolves&quot;</td><td>&quot;Everton&quot;</td><td>&quot;D&quot;</td><td>&quot;D&quot;</td><td>null</td><td>null</td><td>228</td><td>380</td><td>60.0</td></tr><tr><td>&quot;Arsenal&quot;</td><td>&quot;Man City&quot;</td><td>&quot;A&quot;</td><td>&quot;A&quot;</td><td>&quot;Man City&quot;</td><td>1</td><td>228</td><td>380</td><td>60.0</td></tr><tr><td>&quot;Liverpool&quot;</td><td>&quot;West Ham&quot;</td><td>&quot;H&quot;</td><td>&quot;H&quot;</td><td>&quot;Liverpool&quot;</td><td>1</td><td>228</td><td>380</td><td>60.0</td></tr><tr><td>&quot;Southampton&quot;</td><td>&quot;Burnley&quot;</td><td>&quot;D&quot;</td><td>&quot;D&quot;</td><td>null</td><td>null</td><td>228</td><td>380</td><td>60.0</td></tr><tr><td>&quot;Cardiff&quot;</td><td>&quot;Newcastle&quot;</td><td>&quot;D&quot;</td><td>&quot;D&quot;</td><td>null</td><td>null</td><td>228</td><td>380</td><td>60.0</td></tr><tr><td>&quot;Chelsea&quot;</td><td>&quot;Arsenal&quot;</td><td>&quot;D&quot;</td><td>&quot;H&quot;</td><td>&quot;Chelsea&quot;</td><td>1</td><td>228</td><td>380</td><td>60.0</td></tr><tr><td>&hellip;</td><td>&hellip;</td><td>&hellip;</td><td>&hellip;</td><td>&hellip;</td><td>&hellip;</td><td>&hellip;</td><td>&hellip;</td><td>&hellip;</td></tr><tr><td>&quot;Huddersfield&quot;</td><td>&quot;Man United&quot;</td><td>&quot;A&quot;</td><td>&quot;D&quot;</td><td>null</td><td>null</td><td>228</td><td>380</td><td>60.0</td></tr><tr><td>&quot;Man City&quot;</td><td>&quot;Leicester&quot;</td><td>&quot;D&quot;</td><td>&quot;H&quot;</td><td>&quot;Man City&quot;</td><td>1</td><td>228</td><td>380</td><td>60.0</td></tr><tr><td>&quot;Brighton&quot;</td><td>&quot;Man City&quot;</td><td>&quot;A&quot;</td><td>&quot;A&quot;</td><td>&quot;Man City&quot;</td><td>1</td><td>228</td><td>380</td><td>60.0</td></tr><tr><td>&quot;Burnley&quot;</td><td>&quot;Arsenal&quot;</td><td>&quot;D&quot;</td><td>&quot;A&quot;</td><td>&quot;Arsenal&quot;</td><td>1</td><td>228</td><td>380</td><td>60.0</td></tr><tr><td>&quot;Crystal Palace…</td><td>&quot;Bournemouth&quot;</td><td>&quot;H&quot;</td><td>&quot;H&quot;</td><td>&quot;Crystal Palace…</td><td>1</td><td>228</td><td>380</td><td>60.0</td></tr><tr><td>&quot;Fulham&quot;</td><td>&quot;Newcastle&quot;</td><td>&quot;A&quot;</td><td>&quot;A&quot;</td><td>&quot;Newcastle&quot;</td><td>1</td><td>228</td><td>380</td><td>60.0</td></tr><tr><td>&quot;Leicester&quot;</td><td>&quot;Chelsea&quot;</td><td>&quot;D&quot;</td><td>&quot;D&quot;</td><td>null</td><td>null</td><td>228</td><td>380</td><td>60.0</td></tr><tr><td>&quot;Liverpool&quot;</td><td>&quot;Wolves&quot;</td><td>&quot;H&quot;</td><td>&quot;H&quot;</td><td>&quot;Liverpool&quot;</td><td>1</td><td>228</td><td>380</td><td>60.0</td></tr><tr><td>&quot;Man United&quot;</td><td>&quot;Cardiff&quot;</td><td>&quot;A&quot;</td><td>&quot;A&quot;</td><td>&quot;Cardiff&quot;</td><td>1</td><td>228</td><td>380</td><td>60.0</td></tr><tr><td>&quot;Southampton&quot;</td><td>&quot;Huddersfield&quot;</td><td>&quot;H&quot;</td><td>&quot;D&quot;</td><td>null</td><td>null</td><td>228</td><td>380</td><td>60.0</td></tr><tr><td>&quot;Tottenham&quot;</td><td>&quot;Everton&quot;</td><td>&quot;H&quot;</td><td>&quot;D&quot;</td><td>null</td><td>null</td><td>228</td><td>380</td><td>60.0</td></tr><tr><td>&quot;Watford&quot;</td><td>&quot;West Ham&quot;</td><td>&quot;A&quot;</td><td>&quot;A&quot;</td><td>&quot;West Ham&quot;</td><td>1</td><td>228</td><td>380</td><td>60.0</td></tr></tbody></table></div>"
      ],
      "text/plain": [
       "shape: (380, 9)\n",
       "┌──────────────┬────────────────┬───────────┬───────────┬───┬───────┬─────────────┬─────────────┬──────────────────────┐\n",
       "│ home team    ┆ away team      ┆ half time ┆ full time ┆ … ┆ count ┆ ht lead won ┆ total games ┆ Percent of games won │\n",
       "│ ---          ┆ ---            ┆ result    ┆ result    ┆   ┆ ---   ┆ ---         ┆ played      ┆ with lead a…         │\n",
       "│ str          ┆ str            ┆ ---       ┆ ---       ┆   ┆ i32   ┆ i32         ┆ ---         ┆ ---                  │\n",
       "│              ┆                ┆ str       ┆ str       ┆   ┆       ┆             ┆ u32         ┆ f64                  │\n",
       "╞══════════════╪════════════════╪═══════════╪═══════════╪═══╪═══════╪═════════════╪═════════════╪══════════════════════╡\n",
       "│ Man United   ┆ Leicester      ┆ H         ┆ H         ┆ … ┆ 1     ┆ 228         ┆ 380         ┆ 60.0                 │\n",
       "│ Bournemouth  ┆ Cardiff        ┆ H         ┆ H         ┆ … ┆ 1     ┆ 228         ┆ 380         ┆ 60.0                 │\n",
       "│ Fulham       ┆ Crystal Palace ┆ A         ┆ A         ┆ … ┆ 1     ┆ 228         ┆ 380         ┆ 60.0                 │\n",
       "│ Huddersfield ┆ Chelsea        ┆ A         ┆ A         ┆ … ┆ 1     ┆ 228         ┆ 380         ┆ 60.0                 │\n",
       "│ …            ┆ …              ┆ …         ┆ …         ┆ … ┆ …     ┆ …           ┆ …           ┆ …                    │\n",
       "│ Man United   ┆ Cardiff        ┆ A         ┆ A         ┆ … ┆ 1     ┆ 228         ┆ 380         ┆ 60.0                 │\n",
       "│ Southampton  ┆ Huddersfield   ┆ H         ┆ D         ┆ … ┆ null  ┆ 228         ┆ 380         ┆ 60.0                 │\n",
       "│ Tottenham    ┆ Everton        ┆ H         ┆ D         ┆ … ┆ null  ┆ 228         ┆ 380         ┆ 60.0                 │\n",
       "│ Watford      ┆ West Ham       ┆ A         ┆ A         ┆ … ┆ 1     ┆ 228         ┆ 380         ┆ 60.0                 │\n",
       "└──────────────┴────────────────┴───────────┴───────────┴───┴───────┴─────────────┴─────────────┴──────────────────────┘"
      ]
     },
     "execution_count": 25,
     "metadata": {},
     "output_type": "execute_result"
    }
   ],
   "source": [
    "ht_data\n",
    "\n",
    "ht_data = ht_data.with_columns(\n",
    "    (pl.col(\"ht lead won\") / pl.col(\"total games played\") * 100).alias(\"Percent of games won with lead at HT\")\n",
    "\n",
    ")\n",
    "\n",
    "ht_data\n",
    "\n",
    "# This shows that teams had a 60% probability of winning a match if they had the lead at HT"
   ]
  },
  {
   "cell_type": "code",
   "execution_count": null,
   "id": "e398db5f",
   "metadata": {},
   "outputs": [],
   "source": []
  }
 ],
 "metadata": {
  "kernelspec": {
   "display_name": "Python 3 (ipykernel)",
   "language": "python",
   "name": "python3"
  },
  "language_info": {
   "codemirror_mode": {
    "name": "ipython",
    "version": 3
   },
   "file_extension": ".py",
   "mimetype": "text/x-python",
   "name": "python",
   "nbconvert_exporter": "python",
   "pygments_lexer": "ipython3",
   "version": "3.11.5"
  }
 },
 "nbformat": 4,
 "nbformat_minor": 5
}
